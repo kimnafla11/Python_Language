{
 "cells": [
  {
   "cell_type": "code",
   "execution_count": null,
   "id": "a187bb6a",
   "metadata": {},
   "outputs": [],
   "source": [
    "#작성자 : 김나은\n",
    "#작성일자 : 20211121\n",
    "#프로그램 목적 : 프데분 실습\n",
    "#내용 : 리스트컴프리헨션 응용문제 풀이"
   ]
  },
  {
   "cell_type": "code",
   "execution_count": 1,
   "id": "6f68ff79",
   "metadata": {},
   "outputs": [
    {
     "name": "stdout",
     "output_type": "stream",
     "text": [
      "[1, 2, 3, 6]\n"
     ]
    }
   ],
   "source": [
    "# 파이썬 스타일 코드3\n",
    "\n",
    "# 응용5\n",
    "# 공약수 출력\n",
    "# append메소드 활용\n",
    "\n",
    "a = 12\n",
    "b = 6\n",
    "\n",
    "cd = []\n",
    "\n",
    "for i in range(1,b+1):\n",
    "    if(a%i==0)and (b%i==0):\n",
    "        cd.append(i)\n",
    "print(cd)"
   ]
  },
  {
   "cell_type": "code",
   "execution_count": 2,
   "id": "5a5a3c3e",
   "metadata": {},
   "outputs": [
    {
     "name": "stdout",
     "output_type": "stream",
     "text": [
      "[1, 2, 3, 6]\n"
     ]
    }
   ],
   "source": [
    "#리스트 컴프리헨션\n",
    "\n",
    "cd = [i for i in range(1,b+1) if(a%i==0)and (b%i==0)]\n",
    "print(cd)"
   ]
  },
  {
   "cell_type": "code",
   "execution_count": 3,
   "id": "dfdf260c",
   "metadata": {},
   "outputs": [
    {
     "name": "stdout",
     "output_type": "stream",
     "text": [
      "6\n"
     ]
    }
   ],
   "source": [
    "# 응용6\n",
    "# 최대공약수 출력\n",
    "# append 활용\n",
    "cd = []\n",
    "for i in range(1,b+1):\n",
    "    if(a%i == 0 )and (b%i==0):\n",
    "        cd.append(i)\n",
    "print(cd[-1])"
   ]
  },
  {
   "cell_type": "code",
   "execution_count": 5,
   "id": "d1f9764e",
   "metadata": {},
   "outputs": [
    {
     "name": "stdout",
     "output_type": "stream",
     "text": [
      "6\n"
     ]
    }
   ],
   "source": [
    "#리스트 컴프리헨션\n",
    "cd = [i for i in range(1,b+1) if(a%i==0)and (b%i==0)]\n",
    "print(cd[-1])"
   ]
  },
  {
   "cell_type": "code",
   "execution_count": 6,
   "id": "e48c8f7c",
   "metadata": {},
   "outputs": [
    {
     "name": "stdout",
     "output_type": "stream",
     "text": [
      "6\n"
     ]
    }
   ],
   "source": [
    "gcd = max([i for i in range(1,b+1) if(a%i==0)and (b%i==0)])\n",
    "print(gcd)"
   ]
  },
  {
   "cell_type": "code",
   "execution_count": 7,
   "id": "d8b4973d",
   "metadata": {},
   "outputs": [
    {
     "name": "stdout",
     "output_type": "stream",
     "text": [
      "12\n"
     ]
    }
   ],
   "source": [
    "#응용 7\n",
    "#최소공배수\n",
    "\n",
    "for i in range(a,a*b+1):\n",
    "    if(i%a==0)and(i%b==0):\n",
    "        print(i)\n",
    "        break"
   ]
  },
  {
   "cell_type": "code",
   "execution_count": 11,
   "id": "66b8ed25",
   "metadata": {},
   "outputs": [
    {
     "name": "stdout",
     "output_type": "stream",
     "text": [
      "12\n",
      "12\n"
     ]
    }
   ],
   "source": [
    "#리스트 컴프리헨션\n",
    "cm = [i for i in range(a,a*b+1) if(i%a==0)and (i%b==0)]\n",
    "print(cm[0])\n",
    "\n",
    "lcm = min([i for i in range(a,a*b+1) if(i%a==0)and (i%b==0)])\n",
    "print(lcm)"
   ]
  },
  {
   "cell_type": "code",
   "execution_count": 16,
   "id": "edfbe4d0",
   "metadata": {},
   "outputs": [
    {
     "name": "stdout",
     "output_type": "stream",
     "text": [
      "1번째: 4\n",
      "2번째: 6\n",
      "3번째: 8\n",
      "4번째: 9\n",
      "5번째: 10\n",
      "6번째: 12\n",
      "7번째: 14\n",
      "8번째: 15\n",
      "9번째: 16\n",
      "10번째: 18\n",
      "11번째: 20\n",
      "12번째: 21\n",
      "13번째: 22\n",
      "14번째: 24\n",
      "15번째: 25\n",
      "16번째: 26\n",
      "17번째: 27\n",
      "18번째: 28\n",
      "19번째: 30\n",
      "20번째: 32\n",
      "21번째: 33\n",
      "22번째: 34\n",
      "23번째: 35\n",
      "24번째: 36\n",
      "25번째: 38\n",
      "26번째: 39\n",
      "27번째: 40\n",
      "28번째: 42\n",
      "29번째: 44\n",
      "30번째: 45\n",
      "31번째: 46\n",
      "32번째: 48\n",
      "33번째: 49\n",
      "34번째: 50\n",
      "35번째: 51\n",
      "36번째: 52\n",
      "37번째: 54\n",
      "38번째: 55\n",
      "39번째: 56\n",
      "40번째: 57\n",
      "41번째: 58\n",
      "42번째: 60\n",
      "43번째: 62\n",
      "44번째: 63\n",
      "45번째: 64\n",
      "46번째: 65\n",
      "47번째: 66\n",
      "48번째: 68\n",
      "49번째: 69\n",
      "50번째: 70\n",
      "51번째: 72\n",
      "52번째: 74\n",
      "53번째: 75\n",
      "54번째: 76\n",
      "55번째: 77\n",
      "56번째: 78\n",
      "57번째: 80\n",
      "58번째: 81\n",
      "59번째: 82\n",
      "60번째: 84\n",
      "61번째: 85\n",
      "62번째: 86\n",
      "63번째: 87\n",
      "64번째: 88\n",
      "65번째: 90\n",
      "66번째: 91\n",
      "67번째: 92\n",
      "68번째: 93\n",
      "69번째: 94\n",
      "70번째: 95\n",
      "71번째: 96\n",
      "72번째: 98\n",
      "73번째: 99\n",
      "74번째: 100\n"
     ]
    }
   ],
   "source": [
    "#2~100까지 정수중 소수가 아닌 수 오름차순으로 출력\n",
    "#방법1\n",
    "non_prime=[]\n",
    "for i in range(2,101):\n",
    "    count=0\n",
    "    for j in range(1,i+1):\n",
    "        if i%j==0:\n",
    "            count+=1\n",
    "    if count !=2: #소수 아닌 수니까 !=, 소수 출력하고 싶으면 ==로\n",
    "        non_prime.append(i)\n",
    "        \n",
    "for i in range(len(non_prime)): #오름차순\n",
    "    print('%d번째: %d'%(i+1,non_prime[i]))\n",
    "#print(non_prime)"
   ]
  },
  {
   "cell_type": "code",
   "execution_count": null,
   "id": "eb6857b2",
   "metadata": {},
   "outputs": [],
   "source": [
    "non_prime = [i for i in range(2,101) for j in range(2,i) if i%j==0]\n",
    "#print(non_prime) #중복되는 값이 할당되어버림\n",
    "non_prime = set(non_prime) #중복 값 제거를 위해 집합 자료형으로 변환\n",
    "print(non_prime)\n",
    "\n"
   ]
  },
  {
   "cell_type": "code",
   "execution_count": 21,
   "id": "92e257ca",
   "metadata": {},
   "outputs": [
    {
     "name": "stdout",
     "output_type": "stream",
     "text": [
      "1번째: 4\n",
      "2번째: 6\n",
      "3번째: 8\n",
      "4번째: 9\n",
      "5번째: 10\n",
      "6번째: 12\n",
      "7번째: 14\n",
      "8번째: 15\n",
      "9번째: 16\n",
      "10번째: 18\n",
      "11번째: 20\n",
      "12번째: 21\n",
      "13번째: 22\n",
      "14번째: 24\n",
      "15번째: 25\n",
      "16번째: 26\n",
      "17번째: 27\n",
      "18번째: 28\n",
      "19번째: 30\n",
      "20번째: 32\n",
      "21번째: 33\n",
      "22번째: 34\n",
      "23번째: 35\n",
      "24번째: 36\n",
      "25번째: 38\n",
      "26번째: 39\n",
      "27번째: 40\n",
      "28번째: 42\n",
      "29번째: 44\n",
      "30번째: 45\n",
      "31번째: 46\n",
      "32번째: 48\n",
      "33번째: 49\n",
      "34번째: 50\n",
      "35번째: 51\n",
      "36번째: 52\n",
      "37번째: 54\n",
      "38번째: 55\n",
      "39번째: 56\n",
      "40번째: 57\n",
      "41번째: 58\n",
      "42번째: 60\n",
      "43번째: 62\n",
      "44번째: 63\n",
      "45번째: 64\n",
      "46번째: 65\n",
      "47번째: 66\n",
      "48번째: 68\n",
      "49번째: 69\n",
      "50번째: 70\n",
      "51번째: 72\n",
      "52번째: 74\n",
      "53번째: 75\n",
      "54번째: 76\n",
      "55번째: 77\n",
      "56번째: 78\n",
      "57번째: 80\n",
      "58번째: 81\n",
      "59번째: 82\n",
      "60번째: 84\n",
      "61번째: 85\n",
      "62번째: 86\n",
      "63번째: 87\n",
      "64번째: 88\n",
      "65번째: 90\n",
      "66번째: 91\n",
      "67번째: 92\n",
      "68번째: 93\n",
      "69번째: 94\n",
      "70번째: 95\n",
      "71번째: 96\n",
      "72번째: 98\n",
      "73번째: 99\n",
      "74번째: 100\n"
     ]
    }
   ],
   "source": [
    "non_prime = list(set([i for i in range(2,101) for j in range(2,i) if i%j==0]))\n",
    "for i, j in enumerate(non_prime):\n",
    "    print('%d번째: %d'%(i+1,j))"
   ]
  },
  {
   "cell_type": "code",
   "execution_count": null,
   "id": "5a6dfcb3",
   "metadata": {},
   "outputs": [],
   "source": []
  }
 ],
 "metadata": {
  "kernelspec": {
   "display_name": "Python 3",
   "language": "python",
   "name": "python3"
  },
  "language_info": {
   "codemirror_mode": {
    "name": "ipython",
    "version": 3
   },
   "file_extension": ".py",
   "mimetype": "text/x-python",
   "name": "python",
   "nbconvert_exporter": "python",
   "pygments_lexer": "ipython3",
   "version": "3.8.8"
  }
 },
 "nbformat": 4,
 "nbformat_minor": 5
}
