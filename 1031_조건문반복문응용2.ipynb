{
 "cells": [
  {
   "cell_type": "code",
   "execution_count": null,
   "id": "2f8fc425",
   "metadata": {},
   "outputs": [],
   "source": [
    "#작성자 : 나은이\n",
    "#작성일자 : 20211031\n",
    "#프로그램 목적 : 프로그래밍과 데이터분석 실습\n",
    "#내용 : 조건문 반복문 응용2"
   ]
  },
  {
   "cell_type": "code",
   "execution_count": 2,
   "id": "010069a5",
   "metadata": {},
   "outputs": [
    {
     "name": "stdout",
     "output_type": "stream",
     "text": [
      "1\n",
      "2\n",
      "3\n",
      "6\n",
      "[1, 2, 3, 6]\n"
     ]
    }
   ],
   "source": [
    "# 기본7\n",
    "# 두 양의 정수 a와 b가 주어질 때 두 수의 공약수를 출력하시오(a=12, b=6)\n",
    "a = 12\n",
    "b = 6\n",
    "\n",
    "for i in range(1,b+1): # 후보군 반복(a+1로 해도 무관)\n",
    "    if(a%i == 0) and (b%i==0):\n",
    "        print(i)\n",
    "        \n",
    "#append 메소드 활용\n",
    "result = []\n",
    "for i in range(1,b+1): # 후보군 반복(a+1로 해도 무관)\n",
    "    if(a%i == 0) and (b%i==0):\n",
    "        result.append(i)\n",
    "print(result)"
   ]
  },
  {
   "cell_type": "code",
   "execution_count": 5,
   "id": "ed9ef4d0",
   "metadata": {},
   "outputs": [
    {
     "name": "stdout",
     "output_type": "stream",
     "text": [
      "6\n",
      "6\n",
      "6\n"
     ]
    }
   ],
   "source": [
    "# 기본8\n",
    "# 두 양의 정수 a와 b가 주어질 때 두 수의 최대공약수를 출력(a = 12, b = 6)\n",
    "a = 12\n",
    "b = 6\n",
    "\n",
    "# 방법 1\n",
    "result = []\n",
    "for i in range(1,b+1): \n",
    "    if(a%i == 0) and (b%i==0):\n",
    "        result.append(i)\n",
    "print(result[-1])\n",
    "\n",
    "# 방법 2 내림차순으로 반복하여\n",
    "for i in range(b,0,-1):\n",
    "    if(a%i == 0) and (b%i==0):\n",
    "        print(i)\n",
    "        break\n",
    "        \n",
    "# 방법 3\n",
    "gcd = 0\n",
    "for i in range(1,b+1): \n",
    "    if(a%i == 0) and (b%i==0):\n",
    "        gcd = i\n",
    "print(gcd)"
   ]
  },
  {
   "cell_type": "code",
   "execution_count": 7,
   "id": "2a45206b",
   "metadata": {},
   "outputs": [
    {
     "name": "stdout",
     "output_type": "stream",
     "text": [
      "12\n"
     ]
    }
   ],
   "source": [
    "# 기본9 \n",
    "# 최소 공배수\n",
    "a = 12\n",
    "b = 6\n",
    "\n",
    "for i in range(a,a*b+1):\n",
    "    if (i%a == 0) and (i%b == 0):\n",
    "        print(i)\n",
    "        break"
   ]
  },
  {
   "cell_type": "code",
   "execution_count": 9,
   "id": "90c9039c",
   "metadata": {},
   "outputs": [
    {
     "name": "stdout",
     "output_type": "stream",
     "text": [
      "2\n",
      "3\n",
      "5\n",
      "7\n",
      "11\n",
      "13\n",
      "17\n",
      "19\n",
      "23\n",
      "29\n",
      "31\n",
      "37\n",
      "41\n",
      "43\n",
      "47\n",
      "53\n",
      "59\n",
      "61\n",
      "67\n",
      "71\n",
      "73\n",
      "79\n",
      "83\n",
      "89\n",
      "97\n"
     ]
    }
   ],
   "source": [
    "# 기본10\n",
    "# 2부터 100까지 정수 중 소수를 출력\n",
    "\n",
    "# 방법 1\n",
    "for i in range(2,101):\n",
    "    count = 0\n",
    "    for j in range(1,i+1):\n",
    "        if(i%j==0):\n",
    "            count += 1\n",
    "    if(count == 2 ):\n",
    "        print(i)"
   ]
  },
  {
   "cell_type": "code",
   "execution_count": 10,
   "id": "150ca796",
   "metadata": {},
   "outputs": [
    {
     "name": "stdout",
     "output_type": "stream",
     "text": [
      "[2, 3, 5, 7, 11, 13, 17, 19, 23, 29, 31, 37, 41, 43, 47, 53, 59, 61, 67, 71, 73, 79, 83, 89, 97]\n"
     ]
    }
   ],
   "source": [
    "# 방법2 append사용해서 리스트에 넣기\n",
    "prime_num = []\n",
    "for i in range(2,101):\n",
    "    count = 0\n",
    "    for j in range(1,i+1):\n",
    "        if(i%j==0):\n",
    "            count += 1\n",
    "    if(count == 2 ):\n",
    "        prime_num.append(i)\n",
    "print(prime_num)"
   ]
  },
  {
   "cell_type": "code",
   "execution_count": 11,
   "id": "bb2b5ab9",
   "metadata": {},
   "outputs": [
    {
     "name": "stdout",
     "output_type": "stream",
     "text": [
      "2\n",
      "3\n",
      "5\n",
      "7\n",
      "11\n",
      "13\n",
      "17\n",
      "19\n",
      "23\n",
      "29\n",
      "31\n",
      "37\n",
      "41\n",
      "43\n",
      "47\n",
      "53\n",
      "59\n",
      "61\n",
      "67\n",
      "71\n",
      "73\n",
      "79\n",
      "83\n",
      "89\n",
      "97\n"
     ]
    }
   ],
   "source": [
    "# 방법3\n",
    "\n",
    "for i in range(2,101):\n",
    "    for j in range(2,i+1):\n",
    "        if i == j:\n",
    "            print(i)\n",
    "        if i%j == 0:\n",
    "            break #하나라도 나누어 떨어지면 소수가 아님"
   ]
  },
  {
   "cell_type": "code",
   "execution_count": 12,
   "id": "d2b79994",
   "metadata": {},
   "outputs": [
    {
     "name": "stdout",
     "output_type": "stream",
     "text": [
      "[2, 3, 5, 7, 11, 13, 17, 19, 23, 29, 31, 37, 41, 43, 47, 53, 59, 61, 67, 71, 73, 79, 83, 89, 97]\n"
     ]
    }
   ],
   "source": [
    "# 방법 4\n",
    "prime_num = []\n",
    "for i in range(2,101):\n",
    "    for j in range(2,i+1):\n",
    "        if i == j:\n",
    "            prime_num.append(i)\n",
    "        if i%j == 0:\n",
    "            break #하나라도 나누어 떨어지면 소수가 아님\n",
    "print(prime_num)"
   ]
  }
 ],
 "metadata": {
  "kernelspec": {
   "display_name": "Python 3",
   "language": "python",
   "name": "python3"
  },
  "language_info": {
   "codemirror_mode": {
    "name": "ipython",
    "version": 3
   },
   "file_extension": ".py",
   "mimetype": "text/x-python",
   "name": "python",
   "nbconvert_exporter": "python",
   "pygments_lexer": "ipython3",
   "version": "3.8.8"
  }
 },
 "nbformat": 4,
 "nbformat_minor": 5
}
