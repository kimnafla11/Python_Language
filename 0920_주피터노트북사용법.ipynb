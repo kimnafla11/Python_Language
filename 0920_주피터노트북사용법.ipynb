{
 "cells": [
  {
   "cell_type": "code",
   "execution_count": 5,
   "id": "b5c278d3",
   "metadata": {},
   "outputs": [
    {
     "name": "stdout",
     "output_type": "stream",
     "text": [
      "주피터 노트북 사용법\n"
     ]
    }
   ],
   "source": [
    "#작성자 : 나은이\n",
    "#작성일자 : 20210920\n",
    "#프로그램 목적 : 프로그래밍과 데이터분석 실습\n",
    "#내용 : 주피터 노트북 사용법 및 단축키\n",
    "\n",
    "print('주피터 노트북 사용법')\n",
    "\n",
    "####주피터 노트북 단축키####\n",
    "#run : ctrl + enter\n",
    "#run 후 다음 셀 이동 : shift + enter\n",
    "\n",
    "#셀이 파란색 : 커맨드 모드(esc나 바깥 클릭)\n",
    "#셀이 초록색 : 에딧모드(엔터나 셀 클릭)\n",
    "\n",
    "##커맨드모드에서 셀 조작##\n",
    "#위로 셀 추가 a\n",
    "#아래로 셀 추가 b\n",
    "#셀 삭제 dd\n",
    "#셀 오리기 x\n",
    "#셀 복사 c\n",
    "#셀 붙여넣기 shift + v\n",
    "#아래셀과 병합 shift + m\n",
    "\n",
    "##에딧모드에서 셀 조작##\n",
    "# 커서 기준으로 셀 분할 : shift ctrl -\n",
    "#선택 부분 주석 처리 : ctrl /"
   ]
  }
 ],
 "metadata": {
  "kernelspec": {
   "display_name": "Python 3",
   "language": "python",
   "name": "python3"
  },
  "language_info": {
   "codemirror_mode": {
    "name": "ipython",
    "version": 3
   },
   "file_extension": ".py",
   "mimetype": "text/x-python",
   "name": "python",
   "nbconvert_exporter": "python",
   "pygments_lexer": "ipython3",
   "version": "3.8.8"
  }
 },
 "nbformat": 4,
 "nbformat_minor": 5
}
