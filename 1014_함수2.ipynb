{
 "cells": [
  {
   "cell_type": "code",
   "execution_count": null,
   "id": "d3b22a9c",
   "metadata": {},
   "outputs": [],
   "source": [
    "#작성자 : 나은이\n",
    "#작성일자 : 20211014\n",
    "#프로그램 목적 : 프로그래밍과 데이터분석 실습\n",
    "#내용 : 함수2"
   ]
  },
  {
   "cell_type": "code",
   "execution_count": 3,
   "id": "7628f710",
   "metadata": {},
   "outputs": [],
   "source": [
    "# 매개변수x 리턴 x\n",
    "def ni_nr():\n",
    "    print('매개변수와 리턴이 없는 함수')\n",
    "    pass"
   ]
  },
  {
   "cell_type": "code",
   "execution_count": 4,
   "id": "d44ad7d1",
   "metadata": {},
   "outputs": [
    {
     "name": "stdout",
     "output_type": "stream",
     "text": [
      "매개변수와 리턴이 없는 함수\n"
     ]
    }
   ],
   "source": [
    "ni_nr() # 아무값도 리턴하지 않지만 출력은 수행함"
   ]
  },
  {
   "cell_type": "code",
   "execution_count": 5,
   "id": "ebc51523",
   "metadata": {},
   "outputs": [
    {
     "name": "stdout",
     "output_type": "stream",
     "text": [
      "매개변수와 리턴이 없는 함수\n"
     ]
    },
    {
     "data": {
      "text/plain": [
       "NoneType"
      ]
     },
     "execution_count": 5,
     "metadata": {},
     "output_type": "execute_result"
    }
   ],
   "source": [
    "type(ni_nr()) # NoneType"
   ]
  },
  {
   "cell_type": "code",
   "execution_count": 9,
   "id": "9f05768d",
   "metadata": {},
   "outputs": [
    {
     "data": {
      "text/plain": [
       "float"
      ]
     },
     "execution_count": 9,
     "metadata": {},
     "output_type": "execute_result"
    }
   ],
   "source": [
    "# 매개변수x 리턴o \n",
    "# 3.14를 리턴하는 함수\n",
    "def ni_r():\n",
    "    return 3.14\n",
    "\n",
    "ni_r()\n",
    "type(ni_r()) #float 리턴됨"
   ]
  },
  {
   "cell_type": "code",
   "execution_count": 11,
   "id": "1aa4a292",
   "metadata": {},
   "outputs": [
    {
     "name": "stdout",
     "output_type": "stream",
     "text": [
      "6\n",
      "15\n"
     ]
    }
   ],
   "source": [
    "# 매개변수 초기값이 있는 함수\n",
    "def triple(a=5):\n",
    "    result = a * 3\n",
    "    return result\n",
    "\n",
    "print(triple(2))\n",
    "print(triple()) # 아무 인수를 쓰지 않으면 default 5로 15를 반환"
   ]
  },
  {
   "cell_type": "code",
   "execution_count": 17,
   "id": "f17a82d5",
   "metadata": {},
   "outputs": [
    {
     "name": "stdout",
     "output_type": "stream",
     "text": [
      "5 -1 6 0.6666666666666666\n",
      "(3, -1, 2, 0.5)\n"
     ]
    }
   ],
   "source": [
    "# 다수 연산 값 리턴\n",
    "def test(a,b):\n",
    "    return a+b, a-b, a*b, a/b\n",
    "\n",
    "test(2,3)\n",
    "type(test(2,3)) # tuple\n",
    "\n",
    "num1, num2, num3, num4 = test(2,3) # 변수에 리턴값을 대입하고싶을 때\n",
    "print(num1, num2, num3, num4)\n",
    "results = test(2,3)\n",
    "print(results)"
   ]
  },
  {
   "cell_type": "code",
   "execution_count": 19,
   "id": "1faeb345",
   "metadata": {},
   "outputs": [
    {
     "data": {
      "text/plain": [
       "15"
      ]
     },
     "execution_count": 19,
     "metadata": {},
     "output_type": "execute_result"
    }
   ],
   "source": [
    "# 가변 매개변수\n",
    "def test(*args):\n",
    "    num = 0 # 다 더할 수 있는 공간을 만듦\n",
    "    for i in range(len(args)):\n",
    "        num += args[i]\n",
    "    return num\n",
    "\n",
    "\n",
    "def test(*args):\n",
    "    num = 0 # 다 더할 수 있는 공간을 만듦\n",
    "    for i in args:\n",
    "        num += i\n",
    "    return num\n",
    "\n",
    "test(1,2,3,4,5) #1~5까지의 합"
   ]
  },
  {
   "cell_type": "code",
   "execution_count": 22,
   "id": "dabb89ca",
   "metadata": {},
   "outputs": [
    {
     "name": "stdout",
     "output_type": "stream",
     "text": [
      "5\n",
      "15\n"
     ]
    }
   ],
   "source": [
    "# 지역변수, 전역변수\n",
    "# 지역변수\n",
    "a = 5\n",
    "def triple(a):\n",
    "    a = a * 3\n",
    "    return a\n",
    "triple(a)\n",
    "print(a) # return a 해도 함수 밖에 있는 a =5 가 출력된다. 지역변수는 함수내에서 독립적으로 사용됨\n",
    "a = triple(a)\n",
    "print(a) # 이렇듯 변수에 직접 할당하는 것이 젤 좋다."
   ]
  },
  {
   "cell_type": "code",
   "execution_count": 24,
   "id": "944f908d",
   "metadata": {},
   "outputs": [
    {
     "name": "stdout",
     "output_type": "stream",
     "text": [
      "15\n"
     ]
    }
   ],
   "source": [
    "# 전역변수\n",
    "a = 5\n",
    "def triple():\n",
    "    global a #전역변수인 a를 핸들링 하고싶다 a == 5\n",
    "    a = a * 3\n",
    "    return (a)\n",
    "triple() # 함수 실행하고\n",
    "print(a) # a를 출력하면 a값이 15로 바뀐다\n",
    "\n",
    "# but 전역변수를 사용하면 함수의 독립성이 떨어지기땜시, 전역변수를 쓰는건 지양하는 것이 좋다\n",
    "    "
   ]
  },
  {
   "cell_type": "code",
   "execution_count": 30,
   "id": "bc02f43f",
   "metadata": {},
   "outputs": [
    {
     "name": "stdout",
     "output_type": "stream",
     "text": [
      "김나은귀엽다\n"
     ]
    },
    {
     "data": {
      "text/plain": [
       "int"
      ]
     },
     "execution_count": 30,
     "metadata": {},
     "output_type": "execute_result"
    }
   ],
   "source": [
    "# lambda 함수 : 딱히 재사용 마니 안할 때\n",
    "cute = lambda a : a+'귀엽다'\n",
    "print(cute('김나은'))\n",
    "\n",
    "f = lambda a : a*3\n",
    "f(5)\n",
    "type(f(5))"
   ]
  }
 ],
 "metadata": {
  "kernelspec": {
   "display_name": "Python 3",
   "language": "python",
   "name": "python3"
  },
  "language_info": {
   "codemirror_mode": {
    "name": "ipython",
    "version": 3
   },
   "file_extension": ".py",
   "mimetype": "text/x-python",
   "name": "python",
   "nbconvert_exporter": "python",
   "pygments_lexer": "ipython3",
   "version": "3.8.8"
  }
 },
 "nbformat": 4,
 "nbformat_minor": 5
}
