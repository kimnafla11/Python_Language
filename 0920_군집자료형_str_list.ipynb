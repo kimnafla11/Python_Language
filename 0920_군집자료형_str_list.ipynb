{
 "cells": [
  {
   "cell_type": "code",
   "execution_count": 27,
   "id": "d1cc1c1f",
   "metadata": {},
   "outputs": [
    {
     "name": "stdout",
     "output_type": "stream",
     "text": [
      "1\n",
      "<class 'str'>\n",
      "hello world\n",
      "hello\n",
      "world\n",
      "hello\n",
      "worldd\n",
      "h\n",
      "l\n",
      "d\n",
      "hello\n",
      "hello\n",
      "worldd\n",
      "hello\n",
      "worldd\n"
     ]
    }
   ],
   "source": [
    "#작성자 : 나은이\n",
    "#작성일자 : 20210920\n",
    "#프로그램 목적 : 프로그래밍과 데이터분석 실습\n",
    "#내용 : 군집자료형\n",
    "\n",
    "####군집 자료형####\n",
    "\n",
    "#문자열(str) : 큰 따옴표나 작은 따옴표로 묶어욥\n",
    "a = '1'\n",
    "#숫자도 따옴표로 묶으면 문자열로 인식\n",
    "print(a)\n",
    "print(type(a))\n",
    "\n",
    "a = \"hello world\"\n",
    "print(a)\n",
    "\n",
    "a = '''hello\n",
    "world'''\n",
    "#줄 바꿈이 있는 문자열은 작은따옴표/큰따옴표 3개로 가능\n",
    "print(a)\n",
    "\n",
    "a = 'hello\\nworldd'\n",
    "#역슬래시n 해도 줄 바꿈\n",
    "print(a)\n",
    "\n",
    "\n",
    "##문자열의 인덱싱 및 슬라이싱\n",
    "\n",
    "#1. 인덱싱(indexing) : 주소로 데이터 접근 및 추출\n",
    "print(a[0])\n",
    "#시작은 0부터 h출력\n",
    "print(a[2])\n",
    "print(a[-1])\n",
    "#마이너스는 뒤에서부터 카운팅\n",
    "\n",
    "\n",
    "#2. 슬라이싱(slicing) : 범위로 데이터 접근\n",
    "print(a[0:5])\n",
    "print(a[:5])\n",
    "#끝 값+1 hello출력\n",
    "print(a[6:])\n"
   ]
  },
  {
   "cell_type": "code",
   "execution_count": 34,
   "id": "d4b33c6a",
   "metadata": {},
   "outputs": [
    {
     "name": "stdout",
     "output_type": "stream",
     "text": [
      "[1, 2, 3, 4, 5]\n",
      "<class 'list'>\n",
      "1\n",
      "5\n",
      "[2, 3, 4]\n",
      "[1, 2, 3, 4]\n"
     ]
    }
   ],
   "source": [
    "###리스트(list)\n",
    "a = [1,2,3,4,5]\n",
    "print(a)\n",
    "print(type(a))\n",
    "\n",
    "#인덱싱(indexing)\n",
    "print(a[0])\n",
    "print(a[-1])\n",
    "\n",
    "#슬라이싱(slicing)\n",
    "print(a[1:4])\n",
    "#2,3,4출력\n",
    "\n",
    "#리스트 내장 함수(메소드)\n",
    "a = [1,2,3]\n",
    "#append : 뒤에 데이터 추가\n",
    "a.append(4)\n",
    "print(a)\n",
    "#[1,2,3,4]"
   ]
  }
 ],
 "metadata": {
  "kernelspec": {
   "display_name": "Python 3",
   "language": "python",
   "name": "python3"
  },
  "language_info": {
   "codemirror_mode": {
    "name": "ipython",
    "version": 3
   },
   "file_extension": ".py",
   "mimetype": "text/x-python",
   "name": "python",
   "nbconvert_exporter": "python",
   "pygments_lexer": "ipython3",
   "version": "3.8.8"
  }
 },
 "nbformat": 4,
 "nbformat_minor": 5
}
