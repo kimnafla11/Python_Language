{
 "cells": [
  {
   "cell_type": "code",
   "execution_count": null,
   "id": "5dd75428",
   "metadata": {},
   "outputs": [],
   "source": [
    "#작성자 : 나은이\n",
    "#작성일자 : 20210927\n",
    "#프로그램 목적 : 프로그래밍과 데이터분석 복습\n",
    "\n",
    "#내용 : 주피터 노트북 사용법 및 단축키\n",
    "\n",
    "## 1. 주피터 노트북 사용법 및 단축키"
   ]
  },
  {
   "cell_type": "code",
   "execution_count": null,
   "id": "ce23e239",
   "metadata": {},
   "outputs": [],
   "source": [
    "# 1.1.커맨드모드\n",
    "\n",
    "# a : 위로 셀 삽입\n",
    "# b : 아래로 셀 삽입\n",
    "# dd : 셀 삭제\n",
    "# c : 셀 복사\n",
    "# x : 셀 오려내기\n",
    "# shift+v : 셀 붙여넣기\n",
    "# shift+m : 셀 병합\n",
    "# esc : 에딧모드에서 셀모드로"
   ]
  },
  {
   "cell_type": "code",
   "execution_count": 1,
   "id": "fb383ef6",
   "metadata": {},
   "outputs": [
    {
     "ename": "SyntaxError",
     "evalue": "invalid syntax (<ipython-input-1-cea4e76e2dc7>, line 4)",
     "output_type": "error",
     "traceback": [
      "\u001b[1;36m  File \u001b[1;32m\"<ipython-input-1-cea4e76e2dc7>\"\u001b[1;36m, line \u001b[1;32m4\u001b[0m\n\u001b[1;33m    shift + enter : run후 다음셀로 이동\u001b[0m\n\u001b[1;37m                         ^\u001b[0m\n\u001b[1;31mSyntaxError\u001b[0m\u001b[1;31m:\u001b[0m invalid syntax\n"
     ]
    }
   ],
   "source": [
    "# 1.2.에딧모드\n",
    "\n",
    "# enter/클릭 : 에딧모드\n",
    "# ctrl + enter : run\n",
    "# shift + enter : run후 다음셀로 이동\n",
    "# ctrl + / : 범위만큼 주석처리\n",
    "# ctrl + shift + - 현재 커서 위치에서 셀 나누기 \n",
    "# tab : 들여쓰기"
   ]
  }
 ],
 "metadata": {
  "kernelspec": {
   "display_name": "Python 3",
   "language": "python",
   "name": "python3"
  },
  "language_info": {
   "codemirror_mode": {
    "name": "ipython",
    "version": 3
   },
   "file_extension": ".py",
   "mimetype": "text/x-python",
   "name": "python",
   "nbconvert_exporter": "python",
   "pygments_lexer": "ipython3",
   "version": "3.8.8"
  }
 },
 "nbformat": 4,
 "nbformat_minor": 5
}
