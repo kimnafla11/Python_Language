{
 "cells": [
  {
   "cell_type": "code",
   "execution_count": null,
   "id": "fde7ffa5",
   "metadata": {},
   "outputs": [],
   "source": [
    "#작성자 : 김나은\n",
    "#작성일자 : 20211014\n",
    "#프로그램 목적 : 프데분 실습\n",
    "#내용 : 입출력"
   ]
  },
  {
   "cell_type": "code",
   "execution_count": 1,
   "id": "0bbc8c8b",
   "metadata": {},
   "outputs": [
    {
     "name": "stdout",
     "output_type": "stream",
     "text": [
      "양의 정수 입력 : 12\n",
      "양의 정수 입력 : 6\n",
      "6\n"
     ]
    }
   ],
   "source": [
    "# 입력문 1 최대공약수\n",
    "a = int(input('양의 정수 입력 : '))\n",
    "b = int(input('양의 정수 입력 : '))\n",
    "\n",
    "for i in range(b,0,-1):\n",
    "    if (a%i == 0)and (b%i == 0):\n",
    "        print(i)\n",
    "        break"
   ]
  },
  {
   "cell_type": "code",
   "execution_count": 2,
   "id": "803d9ba4",
   "metadata": {},
   "outputs": [
    {
     "name": "stdout",
     "output_type": "stream",
     "text": [
      "양의 정수 입력 : 12\n",
      "양의 정수 입력 : 15\n",
      "60\n"
     ]
    }
   ],
   "source": [
    "# 입력문2 최소공배수\n",
    "a = int(input('양의 정수 입력 : '))\n",
    "b = int(input('양의 정수 입력 : '))\n",
    "\n",
    "for i in range(a,a*b+1):\n",
    "    if(i%a == 0)and (i%b ==0):\n",
    "        print(i)\n",
    "        break"
   ]
  },
  {
   "cell_type": "code",
   "execution_count": 3,
   "id": "d0c042b3",
   "metadata": {},
   "outputs": [
    {
     "name": "stdout",
     "output_type": "stream",
     "text": [
      "2이상의 양의 정수 입력 : 10\n",
      "2\n",
      "3\n",
      "5\n",
      "7\n"
     ]
    }
   ],
   "source": [
    "# 입력문3 소수출력\n",
    "a = int(input('2이상의 양의 정수 입력 : '))\n",
    "for i in range(2,a+1):\n",
    "    count = 0\n",
    "    for j in range(1,i+1):\n",
    "        if (i%j == 0):\n",
    "            count +=1\n",
    "    if count == 2:\n",
    "        print(i)"
   ]
  },
  {
   "cell_type": "code",
   "execution_count": 7,
   "id": "7d49ee7f",
   "metadata": {},
   "outputs": [
    {
     "name": "stdout",
     "output_type": "stream",
     "text": [
      "양의 정수 입력 : 10\n",
      "[2, 3, 5, 7]\n"
     ]
    }
   ],
   "source": [
    "# 입력문 4 소수 리턴하는 함수\n",
    "\n",
    "def prime():\n",
    "    #소수 리턴 함수\n",
    "    a = int(input('양의 정수 입력 : '))\n",
    "    ans = []\n",
    "    for i in range(2,a+1):\n",
    "        count = 0\n",
    "        for j in range(1,i+1):\n",
    "            if i%j == 0:\n",
    "                count+=1\n",
    "        if count == 2:\n",
    "            ans.append(i)\n",
    "    return ans\n",
    "\n",
    "a = prime()\n",
    "print(a)"
   ]
  },
  {
   "cell_type": "code",
   "execution_count": 13,
   "id": "2f6d6f73",
   "metadata": {},
   "outputs": [
    {
     "name": "stdout",
     "output_type": "stream",
     "text": [
      "양의 정수 입력 : 10\n",
      "소수 아님\n"
     ]
    }
   ],
   "source": [
    "# 입력문 5 소수인지 아닌지 판별 방법1\n",
    "def prime_tester():\n",
    "    #소수 판별 함수\n",
    "    a = int(input('양의 정수 입력 : '))\n",
    "    count = 0\n",
    "    for i in range(1,a+1):\n",
    "        if a%i == 0:\n",
    "            count+=1\n",
    "    if count == 2:\n",
    "        print('소수임')\n",
    "    else:\n",
    "        print('소수 아님')\n",
    "\n",
    "prime_tester()\n"
   ]
  },
  {
   "cell_type": "code",
   "execution_count": 15,
   "id": "0719013e",
   "metadata": {},
   "outputs": [
    {
     "name": "stdout",
     "output_type": "stream",
     "text": [
      "양의 정수 입력 : 7\n",
      "소수임\n"
     ]
    }
   ],
   "source": [
    "# 입력문 5 소수인지 아닌지 판별 방법2\n",
    "def prime_tester():\n",
    "    #소수 판별 함수\n",
    "    a = int(input('양의 정수 입력 : '))\n",
    "    for i in range(2,a+1):\n",
    "        if a==i:\n",
    "            print('소수임')\n",
    "            break\n",
    "        if a%i == 0:\n",
    "            print('소수 아님')\n",
    "            break\n",
    "prime_tester()"
   ]
  }
 ],
 "metadata": {
  "kernelspec": {
   "display_name": "Python 3",
   "language": "python",
   "name": "python3"
  },
  "language_info": {
   "codemirror_mode": {
    "name": "ipython",
    "version": 3
   },
   "file_extension": ".py",
   "mimetype": "text/x-python",
   "name": "python",
   "nbconvert_exporter": "python",
   "pygments_lexer": "ipython3",
   "version": "3.8.8"
  }
 },
 "nbformat": 4,
 "nbformat_minor": 5
}
