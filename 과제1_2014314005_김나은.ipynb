{
 "cells": [
  {
   "cell_type": "code",
   "execution_count": 9,
   "id": "987d35fc",
   "metadata": {},
   "outputs": [
    {
     "name": "stdout",
     "output_type": "stream",
     "text": [
      "a는 3, b는 2\n",
      "a는 2, b는 3\n"
     ]
    }
   ],
   "source": [
    "# 과제 1-1. 변수 a,b값 바꾸기\n",
    "a = 3\n",
    "b = 2\n",
    "c = 0 # a값을 저장할 정수형 변수 선언\n",
    "\n",
    "c = a \n",
    "a = b\n",
    "b = c\n",
    "print('a는 %d, b는 %d'%(a,b))"
   ]
  },
  {
   "cell_type": "code",
   "execution_count": 10,
   "id": "708d83dd",
   "metadata": {},
   "outputs": [
    {
     "name": "stdout",
     "output_type": "stream",
     "text": [
      "3mile은 4.827000km입니다\n"
     ]
    }
   ],
   "source": [
    "# 과제 1-2. 1 mile은 약 1.609km 이다. mile이 변수로 주어질 때 (여기서는 3으로 주어진다고 하자)\n",
    "#해당 mile은 몇 km인지 km 변수에 할당하고, 문자열 포맷팅을 활용하여 mile, km를 출력하는 프로그램을 작성하시오.\n",
    "M = 1.609\n",
    "mile = 3\n",
    "km = mile*M\n",
    "print('%dmile은 %fkm입니다'%(mile,km))"
   ]
  },
  {
   "cell_type": "code",
   "execution_count": 17,
   "id": "4f18ad7d",
   "metadata": {},
   "outputs": [
    {
     "name": "stdout",
     "output_type": "stream",
     "text": [
      "원 넓이: 78.500000\n"
     ]
    }
   ],
   "source": [
    "# 과제 1-3. 반지름 r 이 5일 때, 원 넓이 s를 출력하는 프로그램을 작성하시오. 단, 원주율은 3.14로 하며,\n",
    "#문자열 포맷팅을 활용하여 “원 넓이: ?” 형태로 작성\n",
    "r = 5\n",
    "s = r**2*3.14\n",
    "print('원 넓이: %f'%s)"
   ]
  },
  {
   "cell_type": "code",
   "execution_count": 27,
   "id": "c95811c0",
   "metadata": {},
   "outputs": [
    {
     "name": "stdout",
     "output_type": "stream",
     "text": [
      "[3, 3.14, 28.26]\n",
      "28.26 3.14 3\n"
     ]
    }
   ],
   "source": [
    "# 과제 1-4. 1) 리스트 circle을 생성하고\n",
    "#2) append 명령어를 활용하여 순서대로 r = 3, pi = 3.14, 원 넓이 s(계산)를 숫자만 추가 후,\n",
    "#3) pop 명령어를 활용하여 데이터를 하나씩 모두 추출하는 코드를 작성 하시오.\n",
    "circle=[]\n",
    "r=3\n",
    "pi = 3.14\n",
    "s = 3**2*pi\n",
    "circle.append(r)\n",
    "circle.append(pi)\n",
    "circle.append(s)\n",
    "print(circle)#append()활용하여 숫자 추가\n",
    "\n",
    "r1 = circle.pop()#pop()활용하여 데이터 추출\n",
    "pi1 = circle.pop()\n",
    "s1 = circle.pop()\n",
    "print(r1,pi1,s1)"
   ]
  },
  {
   "cell_type": "code",
   "execution_count": 90,
   "id": "394e9a0f",
   "metadata": {},
   "outputs": [
    {
     "name": "stdout",
     "output_type": "stream",
     "text": [
      "True 3개 false 0개 결과 : False\n",
      "True 2개 false 1개 결과 : True\n"
     ]
    }
   ],
   "source": [
    "# 과제 1-5. 한 개 이상의 입력이 거짓이면 결과는 참이 되고, 모든 입력이 참일 때만 결과는 거짓이 되는 NAND라는\n",
    "# 논리 연산이 있다. a와 b가 논리형으로 주어질 때 (여기서 a는 True, b는 False라고 하자.) AND, OR, NOT 연산자를\n",
    "# 활용하여 NAND 연산과 같은 결과가 나오도록 연산을 구현하고 출력하는 코드를 작성하시오.\n",
    "a = True #1\n",
    "b = False #0\n",
    "\n",
    "print('True 3개 false 0개 결과 :',a&a&a != 1) #모든 입력이 참 일 때만 결과는 거짓\n",
    "print('True 2개 false 1개 결과 :',a&a&b != 1) #모든 입력이 참 일 때만 결과는 거짓"
   ]
  }
 ],
 "metadata": {
  "kernelspec": {
   "display_name": "Python 3",
   "language": "python",
   "name": "python3"
  },
  "language_info": {
   "codemirror_mode": {
    "name": "ipython",
    "version": 3
   },
   "file_extension": ".py",
   "mimetype": "text/x-python",
   "name": "python",
   "nbconvert_exporter": "python",
   "pygments_lexer": "ipython3",
   "version": "3.8.8"
  }
 },
 "nbformat": 4,
 "nbformat_minor": 5
}
