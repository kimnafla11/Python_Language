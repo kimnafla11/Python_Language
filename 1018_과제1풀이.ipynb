{
 "cells": [
  {
   "cell_type": "code",
   "execution_count": 2,
   "id": "26216eaf",
   "metadata": {},
   "outputs": [
    {
     "name": "stdout",
     "output_type": "stream",
     "text": [
      "정수를 입력하세요 : 1\n",
      "정수를 입력하세요 : 2\n",
      "a = 2, b = 1\n"
     ]
    }
   ],
   "source": [
    "# 응용 1-1. 정수 a,b를 입력받아 a,b값 바꾸기\n",
    "a = int(input(\"정수 a를 입력하세요 : \"))\n",
    "b = int(input(\"정수 b를 입력하세요 : \"))\n",
    "c = a\n",
    "a = b\n",
    "b = c\n",
    "print('a = %d, b = %d' %(a,b))"
   ]
  },
  {
   "cell_type": "code",
   "execution_count": 5,
   "id": "0cd41738",
   "metadata": {},
   "outputs": [
    {
     "name": "stdout",
     "output_type": "stream",
     "text": [
      "mile : 1\n",
      "1.00는 1.6090 km입니다\n"
     ]
    }
   ],
   "source": [
    "# 응용 1-2. 1마일 = 1.609/ mile을 입력받아 해당마일은 몇 km인지\n",
    "mile = float(input('mile : '))\n",
    "km = mile*1.609\n",
    "print('%.2f는 %.4f km입니다'%(mile,km))"
   ]
  },
  {
   "cell_type": "code",
   "execution_count": 6,
   "id": "fd7b6077",
   "metadata": {},
   "outputs": [
    {
     "name": "stdout",
     "output_type": "stream",
     "text": [
      "반지름 r을 입력하세요 3\n",
      "원 넓이: 28.26\n"
     ]
    }
   ],
   "source": [
    "# 응용 1-3 .\n",
    "r = float(input(\"반지름 r을 입력하세요 \"))\n",
    "s = r**2*3.14\n",
    "print('원 넓이: %.2f'%s)"
   ]
  },
  {
   "cell_type": "code",
   "execution_count": 9,
   "id": "7b5e7c2a",
   "metadata": {},
   "outputs": [
    {
     "name": "stdout",
     "output_type": "stream",
     "text": [
      "반지름 r을 입력하세요 1\n",
      "[1.0, 3.14, 28.26]\n",
      "28.26 3.14 1.0\n"
     ]
    }
   ],
   "source": [
    "# 과제 1-4. 1) 리스트 circle을 생성하고\n",
    "#2) append 명령어를 활용하여 순서대로 r = 3, pi = 3.14, 원 넓이 s(계산)를 숫자만 추가 후,\n",
    "#3) pop 명령어를 활용하여 데이터를 하나씩 모두 추출하는 코드를 작성 하시오.\n",
    "circle=[]\n",
    "r = float(input(\"반지름 r을 입력하세요 \"))\n",
    "pi = 3.14\n",
    "s = 3**2*pi\n",
    "circle.append(r)\n",
    "circle.append(pi)\n",
    "circle.append(s)\n",
    "print(circle)#append()활용하여 숫자 추가\n",
    "\n",
    "r1 = circle.pop()#pop()활용하여 데이터 추출\n",
    "pi1 = circle.pop()\n",
    "s1 = circle.pop()\n",
    "print(r1,pi1,s1)"
   ]
  },
  {
   "cell_type": "code",
   "execution_count": 11,
   "id": "478b6f07",
   "metadata": {},
   "outputs": [
    {
     "name": "stdout",
     "output_type": "stream",
     "text": [
      "논리형 a를 숫자로 입력하세요. 1/00\n",
      "논리형 b를 숫자로 입력하세요. 1/01\n",
      "True\n"
     ]
    }
   ],
   "source": [
    "a = bool(int(input(\"논리형 a를 숫자로 입력하세요. 1/0\")))\n",
    "b = bool(int(input(\"논리형 b를 숫자로 입력하세요. 1/0\")))\n",
    "\n",
    "NAND = not(a and b)\n",
    "print(NAND)"
   ]
  }
 ],
 "metadata": {
  "kernelspec": {
   "display_name": "Python 3",
   "language": "python",
   "name": "python3"
  },
  "language_info": {
   "codemirror_mode": {
    "name": "ipython",
    "version": 3
   },
   "file_extension": ".py",
   "mimetype": "text/x-python",
   "name": "python",
   "nbconvert_exporter": "python",
   "pygments_lexer": "ipython3",
   "version": "3.8.8"
  }
 },
 "nbformat": 4,
 "nbformat_minor": 5
}
