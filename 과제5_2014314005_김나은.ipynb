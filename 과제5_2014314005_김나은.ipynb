{
 "cells": [
  {
   "cell_type": "code",
   "execution_count": null,
   "id": "a90cd3d1",
   "metadata": {},
   "outputs": [],
   "source": [
    "# 2014314005김나은_과제5"
   ]
  },
  {
   "cell_type": "markdown",
   "id": "555d9407",
   "metadata": {},
   "source": [
    "✓[과제 5-1]\n",
    "✓자기 자신을 제외한 모든 양의 약수들의 합이 자기 자신이 되\n",
    "는 자연수를 완전수라고 한다. 예를 들어 6, 28은 완전수이다.\n",
    "✓6=1+2+3 // 1,2,3은 각각 6의 약수\n",
    "✓28=1+2+4+7+14 // 1,2,4,7,14는 각각 28의 약수\n",
    "✓파이썬을 활용하여 하나의 정수 n을 매개 변수로 받아 해당\n",
    "매개 변수 n이 완전수이면 1을 리턴하고 완전수가 아니면 0\n",
    "을 리턴하는 함수 perfect를 만드시오."
   ]
  },
  {
   "cell_type": "code",
   "execution_count": 11,
   "id": "2fa8c737",
   "metadata": {},
   "outputs": [
    {
     "data": {
      "text/plain": [
       "1"
      ]
     },
     "execution_count": 11,
     "metadata": {},
     "output_type": "execute_result"
    }
   ],
   "source": [
    "def perfect(n):\n",
    "    num = 0\n",
    "    for i in range (1,n):\n",
    "        if(n%i == 0):\n",
    "            num+=i\n",
    "    if(num==n):\n",
    "        return 1\n",
    "    else:\n",
    "        return 0\n",
    "\n",
    "perfect(6)"
   ]
  },
  {
   "cell_type": "markdown",
   "id": "1adfd2ef",
   "metadata": {},
   "source": [
    "✓[과제 5-2]\n",
    "✓3kg의 쌀 포대와 5kg의 쌀 포대가 있다. 우리의 목표는 최대한 적\n",
    "은 포대 수로 들고 가려는 것이다. 예를 들어, 18kg의 쌀을 들고 가\n",
    "야 할 때, 3kg 쌀 포대로 6포대를 가져가도 되지만, 5kg 3포대와\n",
    "3kg 1포대를 배달하면, 더 적은 포대로 들고 갈 수 있다.\n",
    "✓쌀을 정확하게 n kg 배달해야 할 때, 몇 포대를 가져가면 되는지 그\n",
    "수를 리턴하는 함수 rice를 작성하시오.\n",
    "✓함수 f의 입력 인자로 n을 입력 받는다.\n",
    "✓출력은 최소 포대의 수를 리턴 한다. 만약, 정확하게 n kg을 만들\n",
    "수 없다면 -1을 리턴한다."
   ]
  },
  {
   "cell_type": "code",
   "execution_count": 18,
   "id": "399829e7",
   "metadata": {},
   "outputs": [
    {
     "data": {
      "text/plain": [
       "5"
      ]
     },
     "execution_count": 18,
     "metadata": {},
     "output_type": "execute_result"
    }
   ],
   "source": [
    "# n = 배달해야하는 쌀\n",
    "# r = 5kg 하고 남은것\n",
    "# min = 최소포대 수\n",
    "def rice(n):\n",
    "    r = n % 5\n",
    "    if(r%3==0):\n",
    "        min = n//5 + ((n%5)//3)\n",
    "        return min\n",
    "    else:\n",
    "        return -1\n",
    "rice(25)"
   ]
  }
 ],
 "metadata": {
  "kernelspec": {
   "display_name": "Python 3",
   "language": "python",
   "name": "python3"
  },
  "language_info": {
   "codemirror_mode": {
    "name": "ipython",
    "version": 3
   },
   "file_extension": ".py",
   "mimetype": "text/x-python",
   "name": "python",
   "nbconvert_exporter": "python",
   "pygments_lexer": "ipython3",
   "version": "3.8.8"
  }
 },
 "nbformat": 4,
 "nbformat_minor": 5
}
