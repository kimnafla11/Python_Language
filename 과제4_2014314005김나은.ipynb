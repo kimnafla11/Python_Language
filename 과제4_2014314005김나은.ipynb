{
 "cells": [
  {
   "cell_type": "code",
   "execution_count": null,
   "id": "b9bd6041",
   "metadata": {},
   "outputs": [],
   "source": [
    "#작성자 : 김나은\n",
    "#작성일자 : 20211015\n",
    "#프로그램 목적 : 과제4"
   ]
  },
  {
   "cell_type": "code",
   "execution_count": 73,
   "id": "41682d5a",
   "metadata": {},
   "outputs": [],
   "source": [
    "def abc(*args):\n",
    "    a = list(args) #가변인자를 리스트로 받음\n",
    "    for i in range(len(args)):\n",
    "        b = len(args)-i #b 리스트 길이에서 i뺀거\n",
    "        for j in range(1,b): #리스트 안에 값 비교하기 위한 for문\n",
    "            if a[j-1]>=a[j]: #리스트에 두 값 비교해서 큰 값이면\n",
    "                temp = a[j-1] # a[j-1]은 두 값중에 큰 값 temp라는 변수에 일단 저장\n",
    "                a[j-1]=a[j] # 큰 숫자를 뒤로 이동\n",
    "                a[j] = temp # 작은 숫자를 앞으로 이동\n",
    "    return a"
   ]
  },
  {
   "cell_type": "code",
   "execution_count": 74,
   "id": "41a7c00f",
   "metadata": {
    "scrolled": false
   },
   "outputs": [
    {
     "data": {
      "text/plain": [
       "[1, 2, 3, 3, 4, 5]"
      ]
     },
     "execution_count": 74,
     "metadata": {},
     "output_type": "execute_result"
    }
   ],
   "source": [
    "abc(5,2,3,1,4,3)"
   ]
  },
  {
   "cell_type": "code",
   "execution_count": 2,
   "id": "d66c402c",
   "metadata": {},
   "outputs": [],
   "source": [
    "def cba(*args):\n",
    "    a = list(args) #가변인자를 리스트로 받음\n",
    "    for i in range(len(args)):\n",
    "        b = len(args)-i #b 리스트 길이에서 i뺀거\n",
    "        for j in range(1,b): #리스트 안에 값 비교하기 위한 for문\n",
    "            if a[j-1]<=a[j]: \n",
    "                temp = a[j-1] \n",
    "                a[j-1]=a[j] \n",
    "                a[j] = temp \n",
    "    return a"
   ]
  },
  {
   "cell_type": "code",
   "execution_count": 3,
   "id": "cac2d0fd",
   "metadata": {},
   "outputs": [
    {
     "data": {
      "text/plain": [
       "[5, 4, 3, 3, 2, 1]"
      ]
     },
     "execution_count": 3,
     "metadata": {},
     "output_type": "execute_result"
    }
   ],
   "source": [
    "cba(5,2,3,1,4,3)"
   ]
  }
 ],
 "metadata": {
  "kernelspec": {
   "display_name": "Python 3",
   "language": "python",
   "name": "python3"
  },
  "language_info": {
   "codemirror_mode": {
    "name": "ipython",
    "version": 3
   },
   "file_extension": ".py",
   "mimetype": "text/x-python",
   "name": "python",
   "nbconvert_exporter": "python",
   "pygments_lexer": "ipython3",
   "version": "3.8.8"
  }
 },
 "nbformat": 4,
 "nbformat_minor": 5
}
