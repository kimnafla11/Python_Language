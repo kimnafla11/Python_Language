{
 "cells": [
  {
   "cell_type": "code",
   "execution_count": null,
   "id": "4c92f119",
   "metadata": {},
   "outputs": [],
   "source": [
    "#작성자 : 나은이\n",
    "#작성일자 : 20210926\n",
    "#프로그램 목적 : 프로그래밍과 데이터분석 실습\n",
    "#내용 : 연산자"
   ]
  },
  {
   "cell_type": "code",
   "execution_count": 5,
   "id": "f12a6414",
   "metadata": {},
   "outputs": [
    {
     "name": "stdout",
     "output_type": "stream",
     "text": [
      "3\n",
      "-1\n",
      "30\n",
      "0.875\n",
      "8\n",
      "1\n",
      "0\n",
      "3\n"
     ]
    }
   ],
   "source": [
    "#연산자\n",
    "#산술 연산자\n",
    "print(1+2)\n",
    "print(3-4)\n",
    "print(5*6)\n",
    "print(7/8)\n",
    "\n",
    "#제곱 : **\n",
    "print(2**3)\n",
    "\n",
    "#나머지 : %\n",
    "print(7%2)\n",
    "print(8%2)\n",
    "\n",
    "#나머지를 버리는 나누기 : //\n",
    "print(7//2)"
   ]
  },
  {
   "cell_type": "code",
   "execution_count": 13,
   "id": "eed4ce67",
   "metadata": {},
   "outputs": [
    {
     "name": "stdout",
     "output_type": "stream",
     "text": [
      "False\n",
      "<class 'bool'>\n",
      "<class 'bool'>\n",
      "False\n",
      "True\n",
      "True\n",
      "False\n",
      "True\n"
     ]
    }
   ],
   "source": [
    "#비교 연산자\n",
    "#연산 결과가 T/F(논리형)로 반환됨\n",
    "print(1>2)\n",
    "print(type(1>2))#class 'bool'타입\n",
    "\n",
    "a = 1>2\n",
    "print(type(a))\n",
    "\n",
    "# >=\n",
    "print(1>=2)\n",
    "\n",
    "#<=\n",
    "print(1<=2)\n",
    "\n",
    "#==\n",
    "print(3==3)\n",
    "print(3==4)\n",
    "\n",
    "#!=\n",
    "print(3!=2)"
   ]
  },
  {
   "cell_type": "code",
   "execution_count": 18,
   "id": "9c724891",
   "metadata": {},
   "outputs": [
    {
     "name": "stdout",
     "output_type": "stream",
     "text": [
      "False\n",
      "False\n",
      "True\n",
      "True\n",
      "False\n",
      "True\n"
     ]
    }
   ],
   "source": [
    "#논리 연산자\n",
    "a = True\n",
    "b = False\n",
    "\n",
    "#and\n",
    "print(a&b)\n",
    "print(a and b)\n",
    "\n",
    "#or\n",
    "print(a|b)\n",
    "print(a or b)\n",
    "\n",
    "#not\n",
    "print(not True)#False반환\n",
    "print(not False)#True반환"
   ]
  },
  {
   "cell_type": "code",
   "execution_count": 23,
   "id": "0709f231",
   "metadata": {},
   "outputs": [
    {
     "name": "stdout",
     "output_type": "stream",
     "text": [
      "True\n",
      "False\n",
      "True\n",
      "False\n"
     ]
    }
   ],
   "source": [
    "#멤버 연산자\n",
    "#in\n",
    "a = [1,2,3]\n",
    "print(2 in a)\n",
    "print(4 in a)\n",
    "\n",
    "#not in\n",
    "print(4 not in a)\n",
    "print(3 not in a)"
   ]
  },
  {
   "cell_type": "code",
   "execution_count": 24,
   "id": "4b1a0aae",
   "metadata": {},
   "outputs": [
    {
     "name": "stdout",
     "output_type": "stream",
     "text": [
      "9\n"
     ]
    }
   ],
   "source": [
    "#연산자 우선순위\n",
    "\n",
    "a = 1 + 2**3\n",
    "print(a)"
   ]
  }
 ],
 "metadata": {
  "kernelspec": {
   "display_name": "Python 3",
   "language": "python",
   "name": "python3"
  },
  "language_info": {
   "codemirror_mode": {
    "name": "ipython",
    "version": 3
   },
   "file_extension": ".py",
   "mimetype": "text/x-python",
   "name": "python",
   "nbconvert_exporter": "python",
   "pygments_lexer": "ipython3",
   "version": "3.8.8"
  }
 },
 "nbformat": 4,
 "nbformat_minor": 5
}
