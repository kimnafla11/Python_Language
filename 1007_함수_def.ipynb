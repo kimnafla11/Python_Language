{
 "cells": [
  {
   "cell_type": "code",
   "execution_count": null,
   "id": "1f7005b9",
   "metadata": {},
   "outputs": [],
   "source": [
    "#작성자 : 나은이\n",
    "#작성일자 : 20211007\n",
    "#프로그램 목적 : 프로그래밍과 데이터분석 실습\n",
    "#내용 : 함수"
   ]
  },
  {
   "cell_type": "code",
   "execution_count": 7,
   "id": "a1eb2d32",
   "metadata": {},
   "outputs": [
    {
     "name": "stdout",
     "output_type": "stream",
     "text": [
      "15\n"
     ]
    }
   ],
   "source": [
    "# 함수\n",
    "# 함수 정의\n",
    "def triple(a):\n",
    "    result = a*3\n",
    "    return result\n",
    "\n",
    "# 함수 사용\n",
    "triple(3)\n",
    "type(triple(3)) #int형 반환\n",
    "b = triple(5) # 리턴값 자체를 변수에 할당 시킬 수 있다.\n",
    "print(b)"
   ]
  },
  {
   "cell_type": "code",
   "execution_count": 15,
   "id": "7eaaa43c",
   "metadata": {},
   "outputs": [
    {
     "name": "stdout",
     "output_type": "stream",
     "text": [
      "27\n",
      "15\n",
      "None\n",
      "15\n"
     ]
    },
    {
     "data": {
      "text/plain": [
       "NoneType"
      ]
     },
     "execution_count": 15,
     "metadata": {},
     "output_type": "execute_result"
    }
   ],
   "source": [
    "# 리턴이 없는 함수 ***리턴값 있는 함수와 없는 함수 구별하기\n",
    "def triple2(a):\n",
    "    result = a*3\n",
    "    print(result)\n",
    "    \n",
    "triple2(9)\n",
    "b = triple2(5) # 변수에 할당되진 않지만 함수에서 print문을 수행했기때문에 연산 결과가 출력된다.\n",
    "print(b) # 리턴값이 없기때문에 변수에 할당 되지 않는다\n",
    "type(triple2(5)) # 리턴 값이 없는 연산결과는 타입이 존재하지 않는다."
   ]
  }
 ],
 "metadata": {
  "kernelspec": {
   "display_name": "Python 3",
   "language": "python",
   "name": "python3"
  },
  "language_info": {
   "codemirror_mode": {
    "name": "ipython",
    "version": 3
   },
   "file_extension": ".py",
   "mimetype": "text/x-python",
   "name": "python",
   "nbconvert_exporter": "python",
   "pygments_lexer": "ipython3",
   "version": "3.8.8"
  }
 },
 "nbformat": 4,
 "nbformat_minor": 5
}
