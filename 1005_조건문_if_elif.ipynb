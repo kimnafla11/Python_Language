{
 "cells": [
  {
   "cell_type": "code",
   "execution_count": null,
   "id": "8d5764f4",
   "metadata": {},
   "outputs": [],
   "source": [
    "#작성자 : 나은이\n",
    "#작성일자 : 20211005\n",
    "#프로그램 목적 : 프로그래밍과 데이터분석 실습\n",
    "#내용 : 조건문"
   ]
  },
  {
   "cell_type": "code",
   "execution_count": 4,
   "id": "f954ddd5",
   "metadata": {},
   "outputs": [
    {
     "name": "stdout",
     "output_type": "stream",
     "text": [
      "a는 3보다 크다\n",
      "True\n",
      "<class 'bool'>\n"
     ]
    }
   ],
   "source": [
    "# 조건문\n",
    "# if문\n",
    "\n",
    "a = 5\n",
    "if a>3:\n",
    "    print('a는 3보다 크다')\n",
    "\n",
    "print(a>3)\n",
    "print(type(a>3))#조건문의 조건은 논리형임"
   ]
  },
  {
   "cell_type": "code",
   "execution_count": 5,
   "id": "3beeb1b5",
   "metadata": {},
   "outputs": [
    {
     "name": "stdout",
     "output_type": "stream",
     "text": [
      "False\n",
      "a<b | a==b\n"
     ]
    }
   ],
   "source": [
    "# else문\n",
    "a = 3\n",
    "b = 5\n",
    "print(a>b)\n",
    "\n",
    "if a>b:\n",
    "    print('a>b')\n",
    "else:\n",
    "    print('a<b | a==b')"
   ]
  },
  {
   "cell_type": "code",
   "execution_count": 10,
   "id": "c1dbf10f",
   "metadata": {},
   "outputs": [
    {
     "name": "stdout",
     "output_type": "stream",
     "text": [
      "a<b\n"
     ]
    }
   ],
   "source": [
    "# elif문\n",
    "a = 3\n",
    "b = 5\n",
    "if a>b:\n",
    "    print('a>b')\n",
    "elif a==b:\n",
    "    print('a==b')\n",
    "else:\n",
    "    print('a<b')"
   ]
  },
  {
   "cell_type": "code",
   "execution_count": 13,
   "id": "945fc712",
   "metadata": {},
   "outputs": [
    {
     "name": "stdout",
     "output_type": "stream",
     "text": [
      "항상 실행\n",
      "항상 실행\n"
     ]
    }
   ],
   "source": [
    "if True:\n",
    "    print('항상 실행')\n",
    "print('항상 실행')\n",
    "# 조건에 대놓고 bool타입을 넣으면 좋지않다."
   ]
  },
  {
   "cell_type": "code",
   "execution_count": 15,
   "id": "9b997edc",
   "metadata": {},
   "outputs": [
    {
     "name": "stdout",
     "output_type": "stream",
     "text": [
      "a b c중에서 a가 가장 작다\n",
      "a b c 중에서 a가 가장 작다\n"
     ]
    }
   ],
   "source": [
    "# 중첩된 if문\n",
    "a = 1\n",
    "b = 2\n",
    "c = 3\n",
    "\n",
    "if a<b:\n",
    "    if a<c:\n",
    "        print('a b c중에서 a가 가장 작다')\n",
    "if a<b and a<c:\n",
    "    print('a b c 중에서 a가 가장 작다')"
   ]
  },
  {
   "cell_type": "code",
   "execution_count": 17,
   "id": "29a66d41",
   "metadata": {},
   "outputs": [
    {
     "name": "stdout",
     "output_type": "stream",
     "text": [
      "a>=b\n",
      "a>=b\n",
      "a==b\n"
     ]
    }
   ],
   "source": [
    "# if문과 elif문의 차이점\n",
    "a = 1\n",
    "b = 1\n",
    "\n",
    "if a>=b:\n",
    "    print('a>=b')\n",
    "elif a==b:\n",
    "    print('a==b')\n",
    "    \n",
    "if a>=b:\n",
    "    print('a>=b')\n",
    "if a==b:\n",
    "    print('a==b')\n",
    "    \n",
    "# elif문은 if문에 종속되어있기때문에 if문이 참이면 elif문연산은 하지 않는다."
   ]
  }
 ],
 "metadata": {
  "kernelspec": {
   "display_name": "Python 3",
   "language": "python",
   "name": "python3"
  },
  "language_info": {
   "codemirror_mode": {
    "name": "ipython",
    "version": 3
   },
   "file_extension": ".py",
   "mimetype": "text/x-python",
   "name": "python",
   "nbconvert_exporter": "python",
   "pygments_lexer": "ipython3",
   "version": "3.8.8"
  }
 },
 "nbformat": 4,
 "nbformat_minor": 5
}
