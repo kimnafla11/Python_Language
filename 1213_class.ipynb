{
 "cells": [
  {
   "cell_type": "code",
   "execution_count": null,
   "id": "1edc7773",
   "metadata": {},
   "outputs": [],
   "source": [
    "# 클래스 1\n",
    "#클래스 명 GcdLcm\n",
    "# 매개변수 양의 정수 2개\n",
    "# 메소드 gcd(최대공약수 리턴) lcm(최소공배수 리턴)"
   ]
  },
  {
   "cell_type": "code",
   "execution_count": 16,
   "id": "8c2c194d",
   "metadata": {},
   "outputs": [
    {
     "data": {
      "text/plain": [
       "6"
      ]
     },
     "execution_count": 16,
     "metadata": {},
     "output_type": "execute_result"
    }
   ],
   "source": [
    "def gcd(a,b):\n",
    "    for i in range(b,0,-1):\n",
    "        if(a%i==0)and(b%i==0):\n",
    "            return(i)\n",
    "gcd(6,12)"
   ]
  },
  {
   "cell_type": "code",
   "execution_count": 17,
   "id": "aabe8074",
   "metadata": {},
   "outputs": [
    {
     "name": "stdout",
     "output_type": "stream",
     "text": [
      "12\n"
     ]
    }
   ],
   "source": [
    "def lcm(a,b):\n",
    "    for i in range(1,a*b+1):\n",
    "        if(i%a==0) and (i%b==0):\n",
    "            print(i)\n",
    "            break\n",
    "lcm(6,12)"
   ]
  },
  {
   "cell_type": "code",
   "execution_count": 22,
   "id": "30abb961",
   "metadata": {},
   "outputs": [],
   "source": [
    "# 클래스 1\n",
    "\n",
    "class GcdLcm:\n",
    "    def __init__(self, num1, num2):\n",
    "        self.num1 = num1\n",
    "        self.num2 = num2\n",
    "    def gcd(self):\n",
    "        gcd_num = max([i for i in range(1, min(self.num1, self.num2))\n",
    "                   if (self.num1%i==0) and (self.num2%i == 0)]) # max()해당하는 값중에 젤 큰값으로 해서 최대공약수\n",
    "        return gcd_num\n",
    "    def lcm(self):\n",
    "        lcm_num = min([i for i in range(max(self.num1, self.num2), self.num1*self.num2+1)\n",
    "                  if (i%self.num1 == 0)and(i%self.num2==0)])\n",
    "        return lcm_num"
   ]
  },
  {
   "cell_type": "code",
   "execution_count": 24,
   "id": "7676f2dd",
   "metadata": {},
   "outputs": [],
   "source": [
    "a = GcdLcm(12,6)"
   ]
  },
  {
   "cell_type": "code",
   "execution_count": 25,
   "id": "7d1d643f",
   "metadata": {
    "scrolled": true
   },
   "outputs": [
    {
     "data": {
      "text/plain": [
       "3"
      ]
     },
     "execution_count": 25,
     "metadata": {},
     "output_type": "execute_result"
    }
   ],
   "source": [
    "a.gcd()"
   ]
  },
  {
   "cell_type": "code",
   "execution_count": 26,
   "id": "d29404c9",
   "metadata": {},
   "outputs": [
    {
     "data": {
      "text/plain": [
       "12"
      ]
     },
     "execution_count": 26,
     "metadata": {},
     "output_type": "execute_result"
    }
   ],
   "source": [
    "a.lcm()"
   ]
  },
  {
   "cell_type": "code",
   "execution_count": null,
   "id": "a4628cc8",
   "metadata": {},
   "outputs": [],
   "source": [
    "# 모듈 및 패키지\n",
    "# GcdLcm 클래스를 가지고 있는 gcdlcm모듈을 만들고, 모듈을 활용하여 12와 6의 최대공약수와 최소공배수 구하기\n"
   ]
  },
  {
   "cell_type": "code",
   "execution_count": null,
   "id": "74078f7f",
   "metadata": {},
   "outputs": [],
   "source": []
  }
 ],
 "metadata": {
  "kernelspec": {
   "display_name": "Python 3",
   "language": "python",
   "name": "python3"
  },
  "language_info": {
   "codemirror_mode": {
    "name": "ipython",
    "version": 3
   },
   "file_extension": ".py",
   "mimetype": "text/x-python",
   "name": "python",
   "nbconvert_exporter": "python",
   "pygments_lexer": "ipython3",
   "version": "3.8.8"
  }
 },
 "nbformat": 4,
 "nbformat_minor": 5
}
