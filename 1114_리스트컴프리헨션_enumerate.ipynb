{
 "cells": [
  {
   "cell_type": "code",
   "execution_count": null,
   "id": "fde7ffa5",
   "metadata": {},
   "outputs": [],
   "source": [
    "#작성자 : 김나은\n",
    "#작성일자 : 20211014\n",
    "#프로그램 목적 : 프데분 실습\n",
    "#내용 : 파이썬스타일코드"
   ]
  },
  {
   "cell_type": "code",
   "execution_count": 1,
   "id": "0bbc8c8b",
   "metadata": {},
   "outputs": [
    {
     "name": "stdout",
     "output_type": "stream",
     "text": [
      "[1, 4, 9]\n"
     ]
    }
   ],
   "source": [
    "# 리스트 컴프리헨션\n",
    "a = [1,2,3]\n",
    "square = []\n",
    "for i in a :\n",
    "    square.append(i**2)\n",
    "print(square)"
   ]
  },
  {
   "cell_type": "code",
   "execution_count": 2,
   "id": "53966297",
   "metadata": {},
   "outputs": [
    {
     "name": "stdout",
     "output_type": "stream",
     "text": [
      "[1, 4, 9]\n"
     ]
    }
   ],
   "source": [
    "#리스트 컴프리헨션 활용\n",
    "square = [i**2 for i in [1,2,3]]\n",
    "print(square)"
   ]
  },
  {
   "cell_type": "code",
   "execution_count": 3,
   "id": "ec0b8a05",
   "metadata": {},
   "outputs": [
    {
     "name": "stdout",
     "output_type": "stream",
     "text": [
      "[9]\n"
     ]
    }
   ],
   "source": [
    "#3의 배수만 제곱\n",
    "#반복문 및 append활용\n",
    "a = [1,2,3]\n",
    "square = []\n",
    "for i in a :\n",
    "    if i%3 ==0:\n",
    "        square.append(i**2)\n",
    "print(square)"
   ]
  },
  {
   "cell_type": "code",
   "execution_count": 4,
   "id": "89f2fe7c",
   "metadata": {},
   "outputs": [
    {
     "name": "stdout",
     "output_type": "stream",
     "text": [
      "[9]\n"
     ]
    }
   ],
   "source": [
    "#list comprehension\n",
    "square = [i**2 for i in [1,2,3] if i%3 == 0]\n",
    "print(square)"
   ]
  },
  {
   "cell_type": "code",
   "execution_count": 5,
   "id": "74769b75",
   "metadata": {},
   "outputs": [
    {
     "name": "stdout",
     "output_type": "stream",
     "text": [
      "0 : 1\n",
      "1 : 2\n",
      "2 : 3\n"
     ]
    }
   ],
   "source": [
    "# enumerate\n",
    "for i, num in enumerate([1,2,3]):\n",
    "    print('%d : %d' %(i,num)) #인덱싱 했던 값을 출력하거나 활용해야하는 경우"
   ]
  },
  {
   "cell_type": "code",
   "execution_count": 6,
   "id": "6ab4e597",
   "metadata": {},
   "outputs": [
    {
     "name": "stdout",
     "output_type": "stream",
     "text": [
      "0 : 1\n",
      "1 : 2\n",
      "2 : 3\n"
     ]
    }
   ],
   "source": [
    "# eunumerate안쓰고\n",
    "count = 0\n",
    "for i in [1,2,3]:\n",
    "    print('%d : %d'%(count,i))\n",
    "    count +=1\n"
   ]
  },
  {
   "cell_type": "code",
   "execution_count": 9,
   "id": "8823292e",
   "metadata": {},
   "outputs": [
    {
     "name": "stdout",
     "output_type": "stream",
     "text": [
      "1 : 50\n",
      "2 : 51\n",
      "3 : 52\n",
      "4 : 53\n",
      "5 : 54\n",
      "6 : 55\n",
      "7 : 56\n",
      "8 : 57\n",
      "9 : 58\n",
      "10 : 59\n",
      "11 : 60\n",
      "12 : 61\n",
      "13 : 62\n",
      "14 : 63\n",
      "15 : 64\n",
      "16 : 65\n",
      "17 : 66\n",
      "18 : 67\n",
      "19 : 68\n",
      "20 : 69\n",
      "21 : 70\n",
      "22 : 71\n",
      "23 : 72\n",
      "24 : 73\n",
      "25 : 74\n",
      "26 : 75\n",
      "27 : 76\n",
      "28 : 77\n",
      "29 : 78\n",
      "30 : 79\n",
      "31 : 80\n",
      "32 : 81\n",
      "33 : 82\n",
      "34 : 83\n",
      "35 : 84\n",
      "36 : 85\n",
      "37 : 86\n",
      "38 : 87\n",
      "39 : 88\n",
      "40 : 89\n",
      "41 : 90\n",
      "42 : 91\n",
      "43 : 92\n",
      "44 : 93\n",
      "45 : 94\n",
      "46 : 95\n",
      "47 : 96\n",
      "48 : 97\n",
      "49 : 98\n",
      "50 : 99\n",
      "51 : 100\n"
     ]
    }
   ],
   "source": [
    "# 예제 1 : 50~100까지 숫자를 오름차순으로 1부터 표시하여 함께 출력(순서와, 숫자)\n",
    "count = 1\n",
    "for i in range(50,101):\n",
    "    print('%d : %d' %(count,i))\n",
    "    count +=1"
   ]
  },
  {
   "cell_type": "code",
   "execution_count": 8,
   "id": "d7b69b0f",
   "metadata": {},
   "outputs": [
    {
     "name": "stdout",
     "output_type": "stream",
     "text": [
      "0 : 50\n",
      "1 : 51\n",
      "2 : 52\n",
      "3 : 53\n",
      "4 : 54\n",
      "5 : 55\n",
      "6 : 56\n",
      "7 : 57\n",
      "8 : 58\n",
      "9 : 59\n",
      "10 : 60\n",
      "11 : 61\n",
      "12 : 62\n",
      "13 : 63\n",
      "14 : 64\n",
      "15 : 65\n",
      "16 : 66\n",
      "17 : 67\n",
      "18 : 68\n",
      "19 : 69\n",
      "20 : 70\n",
      "21 : 71\n",
      "22 : 72\n",
      "23 : 73\n",
      "24 : 74\n",
      "25 : 75\n",
      "26 : 76\n",
      "27 : 77\n",
      "28 : 78\n",
      "29 : 79\n",
      "30 : 80\n",
      "31 : 81\n",
      "32 : 82\n",
      "33 : 83\n",
      "34 : 84\n",
      "35 : 85\n",
      "36 : 86\n",
      "37 : 87\n",
      "38 : 88\n",
      "39 : 89\n",
      "40 : 90\n",
      "41 : 91\n",
      "42 : 92\n",
      "43 : 93\n",
      "44 : 94\n",
      "45 : 95\n",
      "46 : 96\n",
      "47 : 97\n",
      "48 : 98\n",
      "49 : 99\n",
      "50 : 100\n"
     ]
    }
   ],
   "source": [
    "for i,num in enumerate([j for j in range(50,101)]):\n",
    "    print('%d : %d' %(i+1,num))"
   ]
  }
 ],
 "metadata": {
  "kernelspec": {
   "display_name": "Python 3",
   "language": "python",
   "name": "python3"
  },
  "language_info": {
   "codemirror_mode": {
    "name": "ipython",
    "version": 3
   },
   "file_extension": ".py",
   "mimetype": "text/x-python",
   "name": "python",
   "nbconvert_exporter": "python",
   "pygments_lexer": "ipython3",
   "version": "3.8.8"
  }
 },
 "nbformat": 4,
 "nbformat_minor": 5
}
