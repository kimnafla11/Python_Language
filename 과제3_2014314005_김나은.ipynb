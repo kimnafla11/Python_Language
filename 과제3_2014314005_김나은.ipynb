{
 "cells": [
  {
   "cell_type": "code",
   "execution_count": null,
   "id": "304fbac9",
   "metadata": {},
   "outputs": [],
   "source": [
    "#작성자 : 김나은\n",
    "#작성일자 : 20211014\n",
    "#프로그램 목적 : 프로그래밍과 데이터분석 과제3"
   ]
  },
  {
   "cell_type": "code",
   "execution_count": 6,
   "id": "511f5ad2",
   "metadata": {},
   "outputs": [
    {
     "name": "stdout",
     "output_type": "stream",
     "text": [
      "양의 정수 입력 : 12\n",
      "양의 정수 입력 : 3\n",
      "두 수의 최대공약수는 : 3\n"
     ]
    }
   ],
   "source": [
    "# ✓ [과제 3-1] 두 양의 정수를 매개 변수로 받아서 두 수의 최대공약수를 리턴하는 함수를 만드시오. \n",
    "\n",
    "def cdy(x,y):\n",
    "    ans = 0\n",
    "    for i in range(y,0,-1):\n",
    "        if (y%i == 0) and (x%i == 0):\n",
    "            ans = i\n",
    "            break\n",
    "    return ans\n",
    "\n",
    "a = int(input('양의 정수 입력 : '))\n",
    "b = int(input('양의 정수 입력 : '))\n",
    "ans = cdy(a,b)\n",
    "print('두 수의 최대공약수는 : %d' %ans)"
   ]
  },
  {
   "cell_type": "code",
   "execution_count": 9,
   "id": "843e700f",
   "metadata": {},
   "outputs": [
    {
     "name": "stdout",
     "output_type": "stream",
     "text": [
      "양의 정수 입력 : 5\n",
      "양의 정수 입력 : 15\n",
      "두 수의 최대공약수는 : 5\n"
     ]
    }
   ],
   "source": [
    "# ✓ [과제 3-2] 두 양의 정수를 매개 변수로 받아서 두 수의 최대공약수를 출력하시는 함수를 만드시오.\n",
    "\n",
    "def cdy(x,y):\n",
    "    for i in range(y,0,-1):\n",
    "        if (y%i == 0) and (x%i == 0):\n",
    "            print('두 수의 최대공약수는 : %d'%i)\n",
    "            break\n",
    "\n",
    "a = int(input('양의 정수 입력 : '))\n",
    "b = int(input('양의 정수 입력 : '))\n",
    "cdy(a,b)"
   ]
  },
  {
   "cell_type": "code",
   "execution_count": 21,
   "id": "bf8a81f3",
   "metadata": {},
   "outputs": [
    {
     "name": "stdout",
     "output_type": "stream",
     "text": [
      "양의 정수 입력 : 4\n",
      "양의 정수 입력 : 2\n",
      "두 수의 최소공배수는 : 4\n"
     ]
    }
   ],
   "source": [
    "# ✓ [과제 3-3] 두 양의 정수를 매개 변수로 받아서 두 수의 최소공배수를 리턴하는 함수를 만드시오.\n",
    "\n",
    "def cdb(x,y):\n",
    "    ans = 0\n",
    "    for i in range(1,x*y+1):\n",
    "        if (i%x==0) and (i%y==0):\n",
    "            ans = i\n",
    "            return ans\n",
    "        \n",
    "a = int(input('양의 정수 입력 : '))\n",
    "b = int(input('양의 정수 입력 : '))\n",
    "ans = cdb(a,b)\n",
    "print('두 수의 최소공배수는 : %d' %ans)"
   ]
  },
  {
   "cell_type": "code",
   "execution_count": 23,
   "id": "b8777030",
   "metadata": {},
   "outputs": [
    {
     "name": "stdout",
     "output_type": "stream",
     "text": [
      "양의 정수 입력 : 2\n",
      "양의 정수 입력 : 3\n",
      "두 수의 최소공배수는 : 6\n"
     ]
    }
   ],
   "source": [
    "# ✓ [과제 3-4] 두 양의 정수를 매개 변수로 받아서 두 수의 최소공배수를 출력하는 함수를 만드시오.\n",
    "\n",
    "def cdb(x,y):\n",
    "    for i in range(1,x*y+1):\n",
    "        if (i%x==0) and (i%y==0):\n",
    "            print('두 수의 최소공배수는 : %d'%i)\n",
    "a = int(input('양의 정수 입력 : '))\n",
    "b = int(input('양의 정수 입력 : '))\n",
    "cdb(a,b)"
   ]
  },
  {
   "cell_type": "code",
   "execution_count": 31,
   "id": "6d21f7c7",
   "metadata": {},
   "outputs": [
    {
     "name": "stdout",
     "output_type": "stream",
     "text": [
      "2 이상의 양의 정수 입력 : 10\n",
      "10 까지 소수는 : [2, 3, 5, 7]\n"
     ]
    }
   ],
   "source": [
    "# ✓ [과제 3-5] 2 이상의 양의 정수 하나를 입력 받아서, 2부터 해당 정수까지의 정수 중 소수를 리턴하는 prime 함수를 만드시오.\n",
    "\n",
    "def prime(x):\n",
    "    ans = []\n",
    "    for i in range(2,x+1):\n",
    "        count = 0\n",
    "        for j in range(1,i+1):\n",
    "            if i%j == 0:\n",
    "                count+=1\n",
    "        if count == 2:\n",
    "            ans.append(i)\n",
    "    return ans\n",
    "\n",
    "a = int(input('2 이상의 양의 정수 입력 : '))\n",
    "print(a,'까지 소수는 :',prime(a))"
   ]
  },
  {
   "cell_type": "code",
   "execution_count": 81,
   "id": "5c4ca409",
   "metadata": {},
   "outputs": [
    {
     "name": "stdout",
     "output_type": "stream",
     "text": [
      "2 이상의 양의 정수 입력 : 7\n",
      "7 은(는) 소수임\n"
     ]
    }
   ],
   "source": [
    "# ✓ [과제 3-6] 사용자에게 입력 받은 양의 정수가 소수인지 아닌지를 출력하는 prime_tester 함수를 만드시오.\n",
    "\n",
    "def prime_tester(x):\n",
    "    ans = ''\n",
    "    for i in range(2,x+1):\n",
    "        count = 0\n",
    "        for j in range(1,i+1):\n",
    "            if i%j == 0:\n",
    "                count+=1\n",
    "                ans = '소수 아님'\n",
    "        if count == 2:\n",
    "            ans = '소수임'\n",
    "    print(ans)\n",
    "    \n",
    "a = int(input('2 이상의 양의 정수 입력 : '))\n",
    "print(a,'은(는) ', end = '')\n",
    "prime_tester(a)"
   ]
  },
  {
   "cell_type": "code",
   "execution_count": 54,
   "id": "dd98c175",
   "metadata": {},
   "outputs": [
    {
     "name": "stdout",
     "output_type": "stream",
     "text": [
      "*ooooo\n",
      "**oooo\n",
      "***ooo\n",
      "****oo\n",
      "*****o\n",
      "******\n",
      "*****o\n",
      "****oo\n",
      "***ooo\n",
      "**oooo\n",
      "*ooooo\n"
     ]
    }
   ],
   "source": [
    "# ✓[과제 3-7] *”,”o” 와 반복문을 활용하여 아래를 출력하는 프로그램을 작성하시오.\n",
    "# *oooo\n",
    "# **ooo\n",
    "# ***oo\n",
    "# ****o\n",
    "# *****\n",
    "# ****o\n",
    "# ***oo\n",
    "# **ooo\n",
    "# *oooo\n",
    "\n",
    "for i in range(1,7):\n",
    "    print('*'*i, end ='')\n",
    "    print('o'*(6-i), end ='')\n",
    "    print('')\n",
    "for i in range(1,6):\n",
    "    print('*'*(6-i), end='')\n",
    "    print('o'*(i), end='')\n",
    "    print('')"
   ]
  },
  {
   "cell_type": "code",
   "execution_count": 75,
   "id": "873feb57",
   "metadata": {},
   "outputs": [
    {
     "name": "stdout",
     "output_type": "stream",
     "text": [
      "평균 : 223.20, 표준편차 : 390.137, 최대값 : 1000, 최소값 : 1, 데이터 수 : 5\n"
     ]
    }
   ],
   "source": [
    "# ✓[과제 3-8] 1개 이상의 숫자 값(개수가 정해지지 않음)을 매개변수로 받아서 평균, 표본의 표준편차, 최대값, 최소값, 데이터의 수를 리턴하는\n",
    "# 함수를 만드시오. (입력의 형태는 사용자가 지정할수 있다.)\n",
    "import numpy as np\n",
    "def statistics(*args):\n",
    "    input = [*args]\n",
    "    ans = []\n",
    "    ans.append(np.mean(input)) \n",
    "    ans.append(np.std(input)) \n",
    "    ans.append(np.max(input)) \n",
    "    ans.append(np.min(input)) \n",
    "    ans.append(len(input))\n",
    "    return(ans)\n",
    "\n",
    "ans = statistics(1,5,10,100,1000)\n",
    "print('평균 : %.2f, 표준편차 : %.3f, 최대값 : %d, 최소값 : %d, 데이터 수 : %d'%(ans[0],ans[1],ans[2], ans[3],ans[4]))"
   ]
  }
 ],
 "metadata": {
  "kernelspec": {
   "display_name": "Python 3",
   "language": "python",
   "name": "python3"
  },
  "language_info": {
   "codemirror_mode": {
    "name": "ipython",
    "version": 3
   },
   "file_extension": ".py",
   "mimetype": "text/x-python",
   "name": "python",
   "nbconvert_exporter": "python",
   "pygments_lexer": "ipython3",
   "version": "3.8.8"
  }
 },
 "nbformat": 4,
 "nbformat_minor": 5
}
