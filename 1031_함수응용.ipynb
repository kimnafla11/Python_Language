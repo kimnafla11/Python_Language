{
 "cells": [
  {
   "cell_type": "code",
   "execution_count": null,
   "id": "e6f93bf2",
   "metadata": {},
   "outputs": [],
   "source": [
    "#작성자 : 나은이\n",
    "#작성일자 : 20211031\n",
    "#프로그램 목적 : 프로그래밍과 데이터분석 실습\n",
    "#내용 : 파이썬 함수 응용"
   ]
  },
  {
   "cell_type": "code",
   "execution_count": 5,
   "id": "f29b98b6",
   "metadata": {},
   "outputs": [],
   "source": [
    "# 함수 1\n",
    "# 두 양의 정수를 매개변수로 받아서 두 수의 최대공약수를 리턴하는 함수를 만들것\n",
    "def cdy(a,b):\n",
    "    for i in range(b,0,-1):\n",
    "        if(a%i == 0)and (b%i==0):\n",
    "            return(i) \n",
    "#            break 리턴 되면 함수 종료"
   ]
  },
  {
   "cell_type": "code",
   "execution_count": 6,
   "id": "912cac7f",
   "metadata": {},
   "outputs": [
    {
     "data": {
      "text/plain": [
       "6"
      ]
     },
     "execution_count": 6,
     "metadata": {},
     "output_type": "execute_result"
    }
   ],
   "source": [
    "cdy(12,6)"
   ]
  },
  {
   "cell_type": "code",
   "execution_count": 7,
   "id": "de7ffe72",
   "metadata": {},
   "outputs": [],
   "source": [
    "# 함수 2\n",
    "# 매개변수, 두 양의 정수, 리턴 없음, 최대 공약수 출력\n",
    "def cdy(a,b):\n",
    "    for i in range(b,0,-1):\n",
    "        if(a%i == 0)and (b%i==0):\n",
    "            print(i)\n",
    "            break"
   ]
  },
  {
   "cell_type": "code",
   "execution_count": 10,
   "id": "ea7f3eca",
   "metadata": {},
   "outputs": [
    {
     "name": "stdout",
     "output_type": "stream",
     "text": [
      "6\n",
      "7\n",
      "7\n",
      "None\n"
     ]
    }
   ],
   "source": [
    "cdy(12,6)\n",
    "cdy(21,7)\n",
    "a = cdy(21,7) #\n",
    "print(a) #리턴이 없으면 할당을 못한다"
   ]
  },
  {
   "cell_type": "code",
   "execution_count": 11,
   "id": "1207eeaa",
   "metadata": {},
   "outputs": [],
   "source": [
    "# 참고 두 수의 공약수 리턴\n",
    "def cd(a,b):\n",
    "    result = []\n",
    "    for i in range(1, a+1):\n",
    "        if(a%i==0)and(b%i==0):\n",
    "            result.append(i)\n",
    "    return result"
   ]
  },
  {
   "cell_type": "code",
   "execution_count": 14,
   "id": "cdc104b2",
   "metadata": {},
   "outputs": [
    {
     "name": "stdout",
     "output_type": "stream",
     "text": [
      "[1, 2, 3, 4, 6, 12]\n"
     ]
    }
   ],
   "source": [
    "num = cd(12,24)\n",
    "print(num)"
   ]
  },
  {
   "cell_type": "code",
   "execution_count": 17,
   "id": "12b14d89",
   "metadata": {},
   "outputs": [
    {
     "data": {
      "text/plain": [
       "72"
      ]
     },
     "execution_count": 17,
     "metadata": {},
     "output_type": "execute_result"
    }
   ],
   "source": [
    "# 함수 3\n",
    "# 매개변수 두 양의정수, 리턴 최소 공배수\n",
    "def lcm(a,b):\n",
    "    for i in range(a,a*b+1):\n",
    "        if(i%a ==0) and (i%b == 0):\n",
    "            return(i)\n",
    "lcm(12,6)\n",
    "lcm(24,36)"
   ]
  },
  {
   "cell_type": "code",
   "execution_count": 18,
   "id": "8037e2f1",
   "metadata": {},
   "outputs": [
    {
     "name": "stdout",
     "output_type": "stream",
     "text": [
      "72\n"
     ]
    }
   ],
   "source": [
    "# 함수 4\n",
    "# 매개변수 두 양의정수, 리턴없음, 최소공배수 출력\n",
    "def lcm(a,b):\n",
    "    for i in range(a,a*b+1):\n",
    "        if(i%a == 0) and (i%b ==0):\n",
    "            print(i)\n",
    "            break #최소공배수이기 때문에 break문 넣어줘야됨\n",
    "lcm(24,36)"
   ]
  },
  {
   "cell_type": "code",
   "execution_count": 20,
   "id": "0673655a",
   "metadata": {
    "scrolled": true
   },
   "outputs": [
    {
     "name": "stdout",
     "output_type": "stream",
     "text": [
      "2\n",
      "3\n",
      "5\n",
      "7\n",
      "11\n",
      "13\n",
      "17\n",
      "19\n",
      "23\n",
      "29\n",
      "31\n",
      "37\n",
      "41\n",
      "43\n",
      "47\n",
      "53\n",
      "59\n",
      "61\n",
      "67\n",
      "71\n",
      "73\n",
      "79\n",
      "83\n",
      "89\n",
      "97\n"
     ]
    }
   ],
   "source": [
    "# 함수 5\n",
    "# 매개변수 양의정수, 리턴없음, 2부터 해당 정수까지 소수 출력\n",
    "def prime(a):\n",
    "    for i in range(2,a+1):\n",
    "        count = 0 #count초기화\n",
    "        for j in range(1,i+1):\n",
    "            if i%j == 0:\n",
    "                count+=1\n",
    "        if count == 2:\n",
    "            print(i)\n",
    "prime(100)"
   ]
  },
  {
   "cell_type": "code",
   "execution_count": 21,
   "id": "415557ea",
   "metadata": {},
   "outputs": [],
   "source": [
    "# 매개변수 양의정수, 리턴 있음, 2부터 해당 수까지 소수 리턴\n",
    "def prime(a):\n",
    "    prime_num = []\n",
    "    for i in range(2,a+1):\n",
    "        count = 0 #count초기화\n",
    "        for j in range(1,i+1):\n",
    "            if i%j == 0:\n",
    "                count+=1\n",
    "        if count == 2:\n",
    "            prime_num.append(i)\n",
    "    return prime_num"
   ]
  },
  {
   "cell_type": "code",
   "execution_count": 22,
   "id": "34d65823",
   "metadata": {},
   "outputs": [
    {
     "data": {
      "text/plain": [
       "[2,\n",
       " 3,\n",
       " 5,\n",
       " 7,\n",
       " 11,\n",
       " 13,\n",
       " 17,\n",
       " 19,\n",
       " 23,\n",
       " 29,\n",
       " 31,\n",
       " 37,\n",
       " 41,\n",
       " 43,\n",
       " 47,\n",
       " 53,\n",
       " 59,\n",
       " 61,\n",
       " 67,\n",
       " 71,\n",
       " 73,\n",
       " 79,\n",
       " 83,\n",
       " 89,\n",
       " 97]"
      ]
     },
     "execution_count": 22,
     "metadata": {},
     "output_type": "execute_result"
    }
   ],
   "source": [
    "prime(100)"
   ]
  }
 ],
 "metadata": {
  "kernelspec": {
   "display_name": "Python 3",
   "language": "python",
   "name": "python3"
  },
  "language_info": {
   "codemirror_mode": {
    "name": "ipython",
    "version": 3
   },
   "file_extension": ".py",
   "mimetype": "text/x-python",
   "name": "python",
   "nbconvert_exporter": "python",
   "pygments_lexer": "ipython3",
   "version": "3.8.8"
  }
 },
 "nbformat": 4,
 "nbformat_minor": 5
}
