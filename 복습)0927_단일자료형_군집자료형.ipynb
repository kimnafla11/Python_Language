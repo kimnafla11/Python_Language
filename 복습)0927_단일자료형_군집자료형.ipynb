{
 "cells": [
  {
   "cell_type": "code",
   "execution_count": null,
   "id": "8e4fca9c",
   "metadata": {},
   "outputs": [],
   "source": [
    "## 2. 파이썬 자료형 : 변수(데이터를 저장하는 공간)의 종류 또는 type\n",
    "\n",
    "# 2.1. 단일자료형\n",
    "\n",
    "# 2.1.1. 정수형(int) : 정수/산술연산 가능\n",
    "# 2.1.2. 실수형(float)\n",
    "# 2.1.3. 복소수형(complex)\n",
    "# 2.1.4. 논리형(bool) : True/False로 나타냄, 조건문과 함께 사용"
   ]
  },
  {
   "cell_type": "code",
   "execution_count": 1,
   "id": "2b5cd487",
   "metadata": {},
   "outputs": [
    {
     "name": "stdout",
     "output_type": "stream",
     "text": [
      "i\n",
      "sibal\n",
      "hi\n",
      "sibal\n",
      "hi\n",
      "hihi\n",
      "sibalhi\n",
      "하아\n",
      "저 너무너무 졸려요\n",
      "어떻하죠\n",
      "\n",
      "hello world1\n",
      "hello1 world5\n",
      "hello♣☆ world♣♣\n"
     ]
    }
   ],
   "source": [
    "# # 2.2. 군집자료형 : 순서에 따라 데이터에 엑세스 가능(indexing/slicing가능★)\n",
    "\n",
    "# 2.2.1. 문자열(str)\n",
    "a = \"sibalhi\"\n",
    "\n",
    "# 2.2.1.1. 문자열 인덱싱\n",
    "# 인덱싱(indexing) : 위치로 추출, 파이썬에서 인덱싱은 ★0★부터 시작\n",
    "print(a[1])\n",
    "# 2.2.1.2. 문자열 슬라이싱\n",
    "\n",
    "# 슬라이싱(slicing) : 범위로 추출, 변수명[시작위치:(끝위치 + 1)]★★★\n",
    "print(a[:5])\n",
    "print(a[5:7])\n",
    "print(a[:-2])#sibal출력\n",
    "print(a[-2:])#hi 출력 : 끝을 기준으로한 뒤로의 위치\n",
    "\n",
    "# 2.2.1.3. 문자열의 특징\n",
    "# 1) +, * 등의 문자열 더하기 곱하기 가능\n",
    "print('hi'*2) #hihi출력\n",
    "print('sibal'+'hi') #sibalhi출력\n",
    "# 2) 따옴표, 큰따옴표, 여러줄 쓸 땐 '''세개로 가능'''\n",
    "print('''하아\n",
    "저 너무너무 졸려요\n",
    "어떻하죠\n",
    "''')\n",
    "\n",
    "# 2.2.1.4. 문자열 포맷팅 : 변화하는 변수와 결합하여 활용 ★\n",
    "# %s:문자열, %d:정수형, %f:실수형\n",
    "print('hello world%d'%1) #hello world1출력\n",
    "print('hello%d world%d'%(1,5)) #hello1 world5출력\n",
    "print('hello%s world%s'%('♣☆','♣♣'))  #hello♣☆ world♣♣출력"
   ]
  },
  {
   "cell_type": "code",
   "execution_count": 3,
   "id": "9cea427c",
   "metadata": {},
   "outputs": [
    {
     "name": "stdout",
     "output_type": "stream",
     "text": [
      "2\n",
      "[3]\n",
      "[2, 3]\n",
      "[1, 2]\n",
      "[1, 2]\n",
      "2\n",
      "[[1, 2], 3]\n",
      "[1, 2, 3, 9]\n",
      "[1, 2, 3, 'a']\n",
      "[1, 1.5, 2, 3, 9]\n",
      "9\n",
      "[1, 1.5, 2, 3]\n",
      "[0, 3, 4]\n",
      "4\n",
      "[0, 3, 6]\n",
      "[0, 3, 5, 6]\n"
     ]
    }
   ],
   "source": [
    "# 2.2.2. 리스트(list)\n",
    "a = [1,2,3]\n",
    "\n",
    "# 2.2.2.1. 리스트 특징\n",
    "# 인덱싱, 슬라이싱 자주 활용\n",
    "print(a[1]) #2출력\n",
    "print(a[-1:]) #[3]출력\n",
    "print(a[1:]) #[2,3]출력\n",
    "print(a[0:2])#[1,2]출력\n",
    "\n",
    "# 리스트 안의 리스트 가능\n",
    "a = [[1,2],3,4]\n",
    "print(a[0]) #[1,2]출력\n",
    "print(a[0][1]) #2출력\n",
    "print(a[:-1]) #[[1,2],3]\n",
    "\n",
    "# 2.2.2.2. 리스트 메소드\n",
    "# 1).append(a) : 리스트 끝에 a추가\n",
    "b = [1,2,3]\n",
    "b.append(9)\n",
    "print(b)\n",
    "naeun = [1,2,3]\n",
    "naeun.append('a')\n",
    "print(naeun)\n",
    "\n",
    "# 2).insert(a,b) : a위치에 데이터 b추가\n",
    "b.insert(1,1.5)\n",
    "print(b) # [1,1.5,2,3,9]출력\n",
    "\n",
    "# 3).pop() : 젤 끝 위치 데이터 추출 및 변수에서 끝위치 데이터 없앰\n",
    "print(b.pop()) #9출력\n",
    "print(b) #[1,1.5,2,3]출력\n",
    "\n",
    "# 리스트 속 인자 바꾸기\n",
    "a[0] = 0\n",
    "print(a) #[0,3,4]출력\n",
    "x = a.pop()\n",
    "print(x) #4출력\n",
    "a.append(6)\n",
    "print(a) #[0,3,6]출력\n",
    "a.insert(2,5)\n",
    "print(a) #[0,3,5,6]출력"
   ]
  },
  {
   "cell_type": "code",
   "execution_count": null,
   "id": "0fab94a2",
   "metadata": {},
   "outputs": [],
   "source": [
    "# 2.2.3. 튜플(tuple)\n",
    "# 2.2.3.1. 튜플의 특징\n",
    "# 소괄호()로 사용\n",
    "# 리스트와 유사하지만 수정이 불가능함\n",
    "a = (1,2,3)\n",
    "print(a)\n",
    "print(type(a))\n",
    "a[0] = 5 #튜플 인자를 수정하려고 하면 에러난다."
   ]
  },
  {
   "cell_type": "code",
   "execution_count": null,
   "id": "0f81abbf",
   "metadata": {},
   "outputs": [],
   "source": [
    "# 2.2.4. 집합(set) : 중복과 순서가 없음\n",
    "# 2.2.4.1. 집합의 특징\n",
    "# 중괄호{}로 표현\n",
    "# 중복과 순서가 없다\n",
    "# 집합연산이 가능하다\n",
    "c = {'h','e','l','l','o'}\n",
    "print(c)\n",
    "d = {1,2,1,2,5,3,4}\n",
    "print(d)\n",
    "\n",
    "# 2.2.4.2. 집합연산\n",
    "# 1) 합집합\n",
    "a = {1,2,3}\n",
    "b = {3,4,5}\n",
    "print(a|b)#|or연산자로 합집합\n",
    "# 2) 교집합\n",
    "print(a&b)\n",
    "# 3) 차집합\n",
    "print(a-b)"
   ]
  },
  {
   "cell_type": "code",
   "execution_count": 80,
   "id": "d7941474",
   "metadata": {},
   "outputs": [
    {
     "name": "stdout",
     "output_type": "stream",
     "text": [
      "{'key1': 'a', 'key2': 'b', 'key3': 3}\n",
      "3\n",
      "{'key1': 'a', 'key2': 'b', 'key3': 3, 'key4': 'c'}\n",
      "{'key1': 'a', 'key2': 'b', 'key3': 99, 'key4': 'c'}\n",
      "dict_keys(['key1', 'key2', 'key3', 'key4'])\n",
      "dict_values(['a', 'b', 99, 'c'])\n",
      "dict_items([('key1', 'a'), ('key2', 'b'), ('key3', 99), ('key4', 'c')])\n"
     ]
    }
   ],
   "source": [
    "# 2.2.5. 딕셔너리(dict) : 키와 페어로 구성\n",
    "# 2.2.5.1. 딕셔너리의 특징\n",
    "# key:value형태\n",
    "d = {'key1':'a','key2':'b','key3':3}\n",
    "print(d)\n",
    "\n",
    "# 인덱싱\n",
    "print(d['key3'])#key값으로 인자 추출\n",
    "\n",
    "# 인자 추가\n",
    "d['key4'] = 'c'\n",
    "print(d)\n",
    "\n",
    "# 인자 변경\n",
    "d['key3']=99\n",
    "print(d)\n",
    "\n",
    "# 2.2.5.2. 딕셔너리 메소드\n",
    "# 1).keys() : 키가 머머 있는지 볼 수 있다\n",
    "print(d.keys())\n",
    "# 2).values() : 인자가 뭐 있는지 볼 수 있다\n",
    "print(d.values())\n",
    "# 3).items() : 키와 인자가 먼지 볼 수 있다\n",
    "print(d.items())"
   ]
  }
 ],
 "metadata": {
  "kernelspec": {
   "display_name": "Python 3",
   "language": "python",
   "name": "python3"
  },
  "language_info": {
   "codemirror_mode": {
    "name": "ipython",
    "version": 3
   },
   "file_extension": ".py",
   "mimetype": "text/x-python",
   "name": "python",
   "nbconvert_exporter": "python",
   "pygments_lexer": "ipython3",
   "version": "3.8.8"
  }
 },
 "nbformat": 4,
 "nbformat_minor": 5
}
