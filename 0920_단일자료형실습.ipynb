{
 "cells": [
  {
   "cell_type": "code",
   "execution_count": 5,
   "id": "c63e8cfa",
   "metadata": {},
   "outputs": [
    {
     "name": "stdout",
     "output_type": "stream",
     "text": [
      "hello world\n",
      "<class 'int'>\n",
      "3\n"
     ]
    }
   ],
   "source": [
    "#작성자 : 나은이\n",
    "#작성일자 : 20210920\n",
    "#프로그램 목적 : 프로그래밍과 데이터분석 실습\n",
    "#내용 : 단일 자료형 실습\n",
    "\n",
    "##기본 명령어\n",
    "#print:출력\n",
    "print('hello world')\n",
    "\n",
    "#type : 자료형 종류\n",
    "a = 1\n",
    "print(type(a))\n",
    "\n",
    "#len : 변수 길이\n",
    "b = [1,2,3]\n",
    "print(len(b))\n",
    "#3이 출력된다\n",
    "\n",
    "#단일 자료형에서 len()하면 오류 난다\n",
    "###print(len(a)) #하면 에러 남"
   ]
  },
  {
   "cell_type": "code",
   "execution_count": 17,
   "id": "7329f0f5",
   "metadata": {},
   "outputs": [
    {
     "name": "stdout",
     "output_type": "stream",
     "text": [
      "<class 'int'>\n",
      "<class 'float'>\n",
      "1.0\n",
      "<class 'float'>\n",
      "(1+2j)\n",
      "<class 'complex'>\n",
      "True\n",
      "<class 'bool'>\n",
      "False\n",
      "<class 'bool'>\n"
     ]
    }
   ],
   "source": [
    "# 1. 단일 자료형\n",
    "# 1.1. 정수형(int)\n",
    "a = 1\n",
    "print(type(a))\n",
    "\n",
    "\n",
    "# 1.2. 실수형(float)\n",
    "b = 1.1\n",
    "print(type(b))\n",
    "\n",
    "a = 1. #0생략해도 쩜 찍으면 실수형으로 나온다\n",
    "print(a)\n",
    "print(type(a))\n",
    "\n",
    "# 1.3. 복소수형(complex)\n",
    "a = 1+2j\n",
    "print(a)\n",
    "print(type(a))\n",
    "\n",
    "\n",
    "# 1.4. 논리형(bool)\n",
    "# 참 True, 거짓 False 스펠, 대소문자 구별\n",
    "a = True\n",
    "print(a)\n",
    "print(type(a))\n",
    "\n",
    "b = False\n",
    "print(b)\n",
    "print(type(b))"
   ]
  },
  {
   "cell_type": "code",
   "execution_count": 9,
   "id": "b9f0872e",
   "metadata": {},
   "outputs": [
    {
     "name": "stdout",
     "output_type": "stream",
     "text": [
      "0\n",
      "<class 'int'>\n"
     ]
    }
   ],
   "source": [
    "#파이썬에서 선언(잘 쓰는 기능은 아님)\n",
    "c = int()\n",
    "print(c)\n",
    "print(type(c))"
   ]
  }
 ],
 "metadata": {
  "kernelspec": {
   "display_name": "Python 3",
   "language": "python",
   "name": "python3"
  },
  "language_info": {
   "codemirror_mode": {
    "name": "ipython",
    "version": 3
   },
   "file_extension": ".py",
   "mimetype": "text/x-python",
   "name": "python",
   "nbconvert_exporter": "python",
   "pygments_lexer": "ipython3",
   "version": "3.8.8"
  }
 },
 "nbformat": 4,
 "nbformat_minor": 5
}
